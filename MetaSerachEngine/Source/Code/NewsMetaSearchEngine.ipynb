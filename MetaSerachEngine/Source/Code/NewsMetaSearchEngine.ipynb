{
 "cells": [
  {
   "cell_type": "markdown",
   "metadata": {},
   "source": [
    "# Information Retrieval  Assignment AIM -1 \n",
    "\n",
    "## Group Members\n",
    "\n",
    "### PARUPALLI SRINIVASA DINESH 2018AH04563\n",
    "### SWETHA MUTHYALA 2018AH04509"
   ]
  },
  {
   "cell_type": "markdown",
   "metadata": {},
   "source": [
    "\n",
    "# News Meta Search Engine"
   ]
  },
  {
   "cell_type": "markdown",
   "metadata": {
    "id": "138dtyKlZCi7"
   },
   "source": [
    "## Table of Contents\n",
    "1. [Problem Statement](#section1)<br>\n",
    "2. [News Extraction from a search engines](#section2)<br>\n",
    "      - 2.1 [Import Packages](#section201)<br>\n",
    "      - 2.2 [Approach Taken](#section202)<br>\n",
    "      - 2.3 [Extract News from search engines](#section203)<br>\n",
    "      - 2.5 [Extract News from search engines](#section204)<br>\n",
    "3. [Aggregated News Collection](#section3)<br>\n",
    "4. [Ranking](#section4)<br>\n",
    "      - 4.1 [a) Approach 1](#section401)<br>      \n",
    "      - 4.2 [b) Approach 2](#section402)<br> \n",
    "5. [Evaluation](#section5)<br>\n",
    "      - 5.1 [For Sports Category - Precision](#section501)<br>\n",
    "      - 5.2 [Plot the obtained results](#section502)<br> \n",
    "      - 5.3 [For Science Category - Precision](#section503)<br>  \n",
    "      - 5.4 [Plot the obtained results](#section504)<br>  \n",
    "6. [Assumptions and Conclusions](#section6)<br>  "
   ]
  },
  {
   "cell_type": "markdown",
   "metadata": {},
   "source": [
    " <a id=section1></a>\n",
    "## 1. Problem Statement\n",
    "\n",
    "Implement a simple meta search engine which produces aggregated\n",
    "news which are extracted from any two news search engine like Google News and Yahoo!\n",
    "News search engine. The purpose of this work is to understand the working principle of meta\n",
    "search engine rather than focusing on effective meta search engine.\n"
   ]
  },
  {
   "cell_type": "markdown",
   "metadata": {},
   "source": [
    " <a id=section2></a>\n",
    "## Task 1: News Extraction from a search engines\n",
    "\n",
    "Assumptions\n",
    "\n",
    "1) Ignore Image/Video search results. </br>\n",
    "\n",
    "2) Choose any two category for the same purpose and choose any random date for extracting news for this task.\n",
    "\n"
   ]
  },
  {
   "cell_type": "markdown",
   "metadata": {},
   "source": [
    "<a id=section201></a>\n",
    "### Import Required Libraries "
   ]
  },
  {
   "cell_type": "code",
   "execution_count": 283,
   "metadata": {},
   "outputs": [
    {
     "name": "stdout",
     "output_type": "stream",
     "text": [
      "Requirement already satisfied: en_core_web_sm==2.2.5 from https://github.com/explosion/spacy-models/releases/download/en_core_web_sm-2.2.5/en_core_web_sm-2.2.5.tar.gz#egg=en_core_web_sm==2.2.5 in c:\\personal\\anaconda3\\lib\\site-packages (2.2.5)\n",
      "Requirement already satisfied: spacy>=2.2.2 in c:\\personal\\anaconda3\\lib\\site-packages (from en_core_web_sm==2.2.5) (2.2.4)\n",
      "Requirement already satisfied: cymem<2.1.0,>=2.0.2 in c:\\personal\\anaconda3\\lib\\site-packages (from spacy>=2.2.2->en_core_web_sm==2.2.5) (2.0.3)\n",
      "Requirement already satisfied: tqdm<5.0.0,>=4.38.0 in c:\\personal\\anaconda3\\lib\\site-packages (from spacy>=2.2.2->en_core_web_sm==2.2.5) (4.46.0)\n",
      "Requirement already satisfied: preshed<3.1.0,>=3.0.2 in c:\\personal\\anaconda3\\lib\\site-packages (from spacy>=2.2.2->en_core_web_sm==2.2.5) (3.0.2)\n",
      "Requirement already satisfied: catalogue<1.1.0,>=0.0.7 in c:\\personal\\anaconda3\\lib\\site-packages (from spacy>=2.2.2->en_core_web_sm==2.2.5) (1.0.0)\n",
      "Requirement already satisfied: murmurhash<1.1.0,>=0.28.0 in c:\\personal\\anaconda3\\lib\\site-packages (from spacy>=2.2.2->en_core_web_sm==2.2.5) (1.0.2)\n",
      "Requirement already satisfied: srsly<1.1.0,>=1.0.2 in c:\\personal\\anaconda3\\lib\\site-packages (from spacy>=2.2.2->en_core_web_sm==2.2.5) (1.0.2)\n",
      "Requirement already satisfied: blis<0.5.0,>=0.4.0 in c:\\personal\\anaconda3\\lib\\site-packages (from spacy>=2.2.2->en_core_web_sm==2.2.5) (0.4.1)\n",
      "Requirement already satisfied: wasabi<1.1.0,>=0.4.0 in c:\\personal\\anaconda3\\lib\\site-packages (from spacy>=2.2.2->en_core_web_sm==2.2.5) (0.6.0)\n",
      "Requirement already satisfied: setuptools in c:\\personal\\anaconda3\\lib\\site-packages (from spacy>=2.2.2->en_core_web_sm==2.2.5) (41.4.0)\n",
      "Requirement already satisfied: numpy>=1.15.0 in c:\\users\\swnallam\\appdata\\roaming\\python\\python37\\site-packages (from spacy>=2.2.2->en_core_web_sm==2.2.5) (1.18.1)\n",
      "Requirement already satisfied: thinc==7.4.0 in c:\\personal\\anaconda3\\lib\\site-packages (from spacy>=2.2.2->en_core_web_sm==2.2.5) (7.4.0)\n",
      "Requirement already satisfied: requests<3.0.0,>=2.13.0 in c:\\personal\\anaconda3\\lib\\site-packages (from spacy>=2.2.2->en_core_web_sm==2.2.5) (2.23.0)\n",
      "Requirement already satisfied: plac<1.2.0,>=0.9.6 in c:\\personal\\anaconda3\\lib\\site-packages (from spacy>=2.2.2->en_core_web_sm==2.2.5) (1.1.3)\n",
      "Requirement already satisfied: importlib-metadata>=0.20; python_version < \"3.8\" in c:\\personal\\anaconda3\\lib\\site-packages (from catalogue<1.1.0,>=0.0.7->spacy>=2.2.2->en_core_web_sm==2.2.5) (0.23)\n",
      "Requirement already satisfied: idna<3,>=2.5 in c:\\personal\\anaconda3\\lib\\site-packages (from requests<3.0.0,>=2.13.0->spacy>=2.2.2->en_core_web_sm==2.2.5) (2.8)\n",
      "Requirement already satisfied: chardet<4,>=3.0.2 in c:\\personal\\anaconda3\\lib\\site-packages (from requests<3.0.0,>=2.13.0->spacy>=2.2.2->en_core_web_sm==2.2.5) (3.0.4)\n",
      "Requirement already satisfied: urllib3!=1.25.0,!=1.25.1,<1.26,>=1.21.1 in c:\\personal\\anaconda3\\lib\\site-packages (from requests<3.0.0,>=2.13.0->spacy>=2.2.2->en_core_web_sm==2.2.5) (1.24.2)\n",
      "Requirement already satisfied: certifi>=2017.4.17 in c:\\personal\\anaconda3\\lib\\site-packages (from requests<3.0.0,>=2.13.0->spacy>=2.2.2->en_core_web_sm==2.2.5) (2019.9.11)\n",
      "Requirement already satisfied: zipp>=0.5 in c:\\personal\\anaconda3\\lib\\site-packages (from importlib-metadata>=0.20; python_version < \"3.8\"->catalogue<1.1.0,>=0.0.7->spacy>=2.2.2->en_core_web_sm==2.2.5) (0.6.0)\n",
      "Requirement already satisfied: more-itertools in c:\\personal\\anaconda3\\lib\\site-packages (from zipp>=0.5->importlib-metadata>=0.20; python_version < \"3.8\"->catalogue<1.1.0,>=0.0.7->spacy>=2.2.2->en_core_web_sm==2.2.5) (7.2.0)\n",
      "[+] Download and installation successful\n",
      "You can now load the model via spacy.load('en_core_web_sm')\n"
     ]
    }
   ],
   "source": [
    "!python -m spacy download en_core_web_sm "
   ]
  },
  {
   "cell_type": "code",
   "execution_count": 284,
   "metadata": {
    "id": "nq5rIB0SZTuT"
   },
   "outputs": [],
   "source": [
    "import re\n",
    "import string\n",
    "import requests\n",
    "import numpy as np\n",
    "import pandas as pd\n",
    "from bs4 import BeautifulSoup\n",
    "from sklearn.feature_extraction.text import TfidfVectorizer\n",
    "from urllib.request import urlopen, Request\n",
    "import csv,os\n",
    "from datetime import datetime\n",
    "import matplotlib.pyplot as plt"
   ]
  },
  {
   "cell_type": "markdown",
   "metadata": {},
   "source": [
    "<a id=section202></a>\n",
    "### Approach Taken"
   ]
  },
  {
   "cell_type": "markdown",
   "metadata": {},
   "source": [
    "Assumptions:\n",
    "\n",
    "In this assignment, assume document content as only its summary/snippet, the title,\n",
    "Category and date&time of the news for simplicity. It is to note clearly that based on\n",
    "our assumption, document does not refer whole content. Thus, you need not retrieve\n",
    "full document content (say complete article on a news) for this assignment. Only extract\n",
    "summary/snippet, the title, Category and date&time of the news as a document content. </br>\n",
    "\n",
    "**Note1: This assumption may not be true for the real meta search engine. This\n",
    "assumption is to simplify the work.** </br>\n",
    "\n",
    "**Note2: Ignore Image/Video search results.** </br>\n",
    "\n",
    "**Note3: Choose any two category for the same purpose and choose any random date for\n",
    "extracting news for this task.** </br>\n",
    "\n",
    "**Propose a method suitable for processing and storing the extracted information from\n",
    "different search engines** </br>\n",
    "\n",
    "\n",
    "\n",
    "\n",
    "### Fixing the date filter, categories and search engines\n",
    "\n",
    "1) Categories as Sports and Science with search queries  **cricket** for sports and **covid vaccine update** </br>\n",
    "\n",
    "2) Choosen date as 2021-01-01 for Sports category, Choose 2021-01-04 for Science Category </br>\n",
    "\n",
    "3) Search Engines considered are **Google news and Bing news**. \n",
    "\n",
    "**Areas of exploration considered for this task**:\n",
    "\n",
    "4) Written a web scroller using spacy liberaries provided by python. This was providing lot of data to filter and due to   limitations crawlers have dropped that idea . </br>\n",
    "\n",
    "b) Tried to do a web scrapping of google and bing search engines, but observed the few tags keep getting changed. </br>\n",
    "\n",
    "c) After a lot of research decided to use the rss feed from the Google and Bing serach engines for this assignment to generate    a corpus. As per assignment assumptions for news extraction we need to date, description/summary, category and link. This      data is very much available for both the search engines and much cleaner approach.\n",
    "\n",
    "\n",
    "d) For better visisbility can open .cvs (extratced news file) file using excel. </br>\n",
    "\n",
    "e) For this assignment we have considered Sports and Science Cateogries. </br>\n",
    "\n",
    "f) For Sports category date filter **Fri, 01 Jan 2021** is applied to extract news providing corpus in /Data/Sports folder. Results are valid for this date only </br> \n",
    "\n",
    "e) For Science category date filter **Mon, 04 Jan 2021** is applied to extract news providing corpus in /Data/Science folder. \n",
    "Results are valid for this date only </br> \n",
    "\n",
    "h) As we have considered the Rss news feed from Google and Bing for the data extraction purpose, running the ExtracNews method again will override the Data folder and results may vary as feed varies from date to date. \n",
    "Accordingly RankedDocuments.txt should be constructed manually.\n"
   ]
  },
  {
   "cell_type": "markdown",
   "metadata": {},
   "source": [
    "#### Global Variables"
   ]
  },
  {
   "cell_type": "code",
   "execution_count": 285,
   "metadata": {
    "colab": {
     "base_uri": "https://localhost:8080/"
    },
    "id": "gyMvJ_JvRJIa",
    "outputId": "57e86cea-28ef-4978-b116-503a6693a768"
   },
   "outputs": [],
   "source": [
    "#def loadconfig():   \n",
    "categories = [\"Sports\", \"Science\"]\n",
    "searchsites = [\"googlenews\",\"bingnews\"] \n",
    "\n",
    "# user query \n",
    "userquery1 ='cricket'\n",
    "userquery2 = 'Vaccine'"
   ]
  },
  {
   "cell_type": "code",
   "execution_count": 286,
   "metadata": {},
   "outputs": [],
   "source": [
    "def Getdatefilter():\n",
    "    today = datetime(2021, 1, 1) \n",
    "    dt = today.strftime(\"%a\") +', '+ today.strftime(\"%d\") + ' '+today.strftime(\"%b\") +' '+today.strftime(\"%Y\")\n",
    "    print('----------------------News Extraction for Date : ' +dt+'---------------------------------')\n",
    "    return dt"
   ]
  },
  {
   "cell_type": "code",
   "execution_count": 287,
   "metadata": {},
   "outputs": [
    {
     "name": "stdout",
     "output_type": "stream",
     "text": [
      "----------------------News Extraction for Date : Fri, 01 Jan 2021---------------------------------\n",
      "Fri, 01 Jan 2021\n"
     ]
    }
   ],
   "source": [
    "datefilter = Getdatefilter()\n",
    "print(datefilter)"
   ]
  },
  {
   "cell_type": "markdown",
   "metadata": {},
   "source": [
    "<a id=section203></a>\n",
    "### Extract News from search engines\n",
    "\n",
    "Extracting news based on date, category and search filter as suggested in assignment description.\n"
   ]
  },
  {
   "cell_type": "markdown",
   "metadata": {},
   "source": [
    "### Extract news based on category and search query"
   ]
  },
  {
   "cell_type": "code",
   "execution_count": 288,
   "metadata": {
    "id": "19OPUjSzdpTS"
   },
   "outputs": [],
   "source": [
    "def ExtractNews(datefilter,category,query,searchsite,url):\n",
    "    serachstring= category+'+'+query\n",
    "    news_url = url.format(serachstring)\n",
    "\n",
    "    print('\\n-----News feed url for google news : ' +news_url+'-------')\n",
    "    \n",
    "    Client=urlopen(news_url)\n",
    "    xml_page=Client.read()\n",
    "    Client.close()\n",
    "   \n",
    "    soup_page=BeautifulSoup(xml_page,\"xml\")\n",
    "    news_list=soup_page.findAll(\"item\")\n",
    "\n",
    "    # Print news title, url and publish date\n",
    "    file = open('Data/'+category+'/'+searchsite+'_'+category+'.csv', 'w', newline ='', encoding='utf-8') \n",
    "    header = ['Title', 'Description' ,'Category', 'Link', 'DateTime']\n",
    "    writer = csv.DictWriter(file, fieldnames = header)\n",
    "    writer.writeheader() \n",
    "    with file:\n",
    "        for news in news_list:\n",
    "            if(datefilter in news.pubDate.text):\n",
    "                extracteddt=news.pubDate.text[5:-4]\n",
    "                date_time_obj = datetime.strptime(extracteddt, '%d %b %Y %H:%M:%S')\n",
    "                soup = BeautifulSoup(news.description.text)\n",
    "                description = soup.get_text()\n",
    "                writer.writerow({'Title' : news.title.text,\n",
    "                 'Description': description,\n",
    "                 'Category': category,  \n",
    "                 'Link': news.link.text,\n",
    "                 'DateTime': date_time_obj})\n"
   ]
  },
  {
   "cell_type": "markdown",
   "metadata": {},
   "source": [
    "#### Calling ExtractNews method to fetch the news feed for Sports Category and Cricket query for Google news"
   ]
  },
  {
   "cell_type": "code",
   "execution_count": 289,
   "metadata": {},
   "outputs": [
    {
     "name": "stdout",
     "output_type": "stream",
     "text": [
      "---------------------Category : Sports--------------------\n",
      "---------------------Query : cricket--------------------\n",
      "\n",
      "-----News feed url for google news : https://news.google.com/rss/search?q=Sports+cricket**&hl=en-US&gl=US&ceid=US:en-------\n"
     ]
    }
   ],
   "source": [
    "# calling extractgooglenews method to fetch the news feed for Sports Category and Cricket query \n",
    "\n",
    "print('---------------------Category : '+categories[0]+'--------------------')\n",
    "print('---------------------Query : '+userquery1+'--------------------')\n",
    "ExtractNews(datefilter,categories[0],\n",
    "            userquery1,\n",
    "            searchsites[0],'https://news.google.com/rss/search?q={}**&hl=en-US&gl=US&ceid=US:en')\n"
   ]
  },
  {
   "cell_type": "markdown",
   "metadata": {},
   "source": [
    "#### Calling ExtractNews method to fetch the news feed for Science Category and Vaccine query for Google news "
   ]
  },
  {
   "cell_type": "code",
   "execution_count": 290,
   "metadata": {},
   "outputs": [
    {
     "name": "stdout",
     "output_type": "stream",
     "text": [
      "---------------------Category : Science--------------------\n",
      "---------------------Query : Vaccine--------------------\n",
      "\n",
      "-----News feed url for google news : https://news.google.com/rss/search?q=Science+Vaccine**&hl=en-US&gl=US&ceid=US:en-------\n"
     ]
    }
   ],
   "source": [
    "# calling extractgooglenews method to fetch the news feed for Science Category and Covid Vaccine update query \n",
    "\n",
    "print('---------------------Category : '+categories[1]+'--------------------')\n",
    "print('---------------------Query : '+userquery2+'--------------------')\n",
    "\n",
    "ExtractNews('Mon, 04 Jan 2021',categories[1],\n",
    "            userquery2,\n",
    "            searchsites[0],'https://news.google.com/rss/search?q={}**&hl=en-US&gl=US&ceid=US:en')\n",
    "\n"
   ]
  },
  {
   "cell_type": "markdown",
   "metadata": {},
   "source": [
    "#### Calling ExtractNews method to fetch the news feed for Sports Category and Cricket query for Bing news"
   ]
  },
  {
   "cell_type": "code",
   "execution_count": 291,
   "metadata": {},
   "outputs": [
    {
     "name": "stdout",
     "output_type": "stream",
     "text": [
      "---------------------Category : Sports--------------------\n",
      "---------------------Query : cricket--------------------\n",
      "\n",
      "-----News feed url for google news : https://www.bing.com/news/search?q=Sports+cricket&format=rss-------\n"
     ]
    }
   ],
   "source": [
    "# calling extractgooglenews method to fetch the news feed for Sports Category and Cricket query \n",
    "\n",
    "print('---------------------Category : '+categories[0]+'--------------------')\n",
    "print('---------------------Query : '+userquery1+'--------------------')\n",
    "\n",
    "ExtractNews(datefilter,categories[0],\n",
    "            userquery1,\n",
    "            searchsites[1],'https://www.bing.com/news/search?q={}&format=rss')"
   ]
  },
  {
   "cell_type": "markdown",
   "metadata": {},
   "source": [
    "#### Calling ExtractNews method to fetch the news feed for Science Category and Vaccine query for Bing news "
   ]
  },
  {
   "cell_type": "code",
   "execution_count": 292,
   "metadata": {},
   "outputs": [
    {
     "name": "stdout",
     "output_type": "stream",
     "text": [
      "---------------------Category : Science--------------------\n",
      "---------------------Query : Vaccine--------------------\n",
      "\n",
      "-----News feed url for google news : https://www.bing.com/news/search?q=Science+Vaccine&format=rss-------\n"
     ]
    }
   ],
   "source": [
    "# calling extractgooglenews method to fetch the news feed for Science Category and Covid Vaccine update query \n",
    "\n",
    "datefilter='Mon, 04 Jan 2021'\n",
    "\n",
    "print('---------------------Category : '+categories[1]+'--------------------')\n",
    "print('---------------------Query : '+userquery2+'--------------------')\n",
    "\n",
    "ExtractNews(datefilter,categories[1],\n",
    "            userquery2,\n",
    "            searchsites[1],'https://www.bing.com/news/search?q={}&format=rss')"
   ]
  },
  {
   "cell_type": "markdown",
   "metadata": {},
   "source": [
    " <a id=section3></a>\n",
    "# Task 2: Aggregated News Collection\n"
   ]
  },
  {
   "cell_type": "markdown",
   "metadata": {},
   "source": [
    "Assumptions to pick unique news documents.\n",
    "\n",
    "-- To maggregare extracted news, check for unique documents based on title. Remove the duplicate documents if any found with same title in both the data collection."
   ]
  },
  {
   "cell_type": "code",
   "execution_count": 293,
   "metadata": {},
   "outputs": [],
   "source": [
    "# Merging the extracted news from google news and bing news for a given category+searchquery and store in Data/Sports folder\n",
    "# Remove the duplicates based on the unique titles in both the document collection\n",
    "\n",
    "def Aggregatenews(category,searchsites,encodingtype):\n",
    "    path ='Data/'+category+'/'\n",
    "    #Read from google news.csv file based on catgegory\n",
    "    \n",
    "    google_sports_df = pd.read_csv(path+searchsites[0]+'_'+category+'.csv',sep=\",\", encoding=encodingtype)\n",
    "    google_sports_df.head()\n",
    "    \n",
    "    #Read from bing news.csv file based on catgegory\n",
    "    \n",
    "    bing_sports_df = pd.read_csv(path+searchsites[1]+'_'+category+'.csv',sep=\",\", encoding=encodingtype)\n",
    "    \n",
    "    google_sports_df['Title'] = google_sports_df['Title'].astype(str).str.lower()\n",
    "    bing_sports_df['Title'] = bing_sports_df['Title'].astype(str).str.lower()\n",
    "    \n",
    "    #Remove duplicate documents based on title comaprision between both news collection \n",
    "    \n",
    "    for index, row in google_sports_df.iterrows():    \n",
    "        if row['Title'].lower() in bing_sports_df['Title'].values:\n",
    "            bing_sports_df = bing_sports_df.drop(bing_sports_df[bing_sports_df['Title']==0].index)\n",
    "            \n",
    "    return google_sports_df.append(bing_sports_df)"
   ]
  },
  {
   "cell_type": "markdown",
   "metadata": {},
   "source": [
    "### Aggregating news for Sports Category "
   ]
  },
  {
   "cell_type": "code",
   "execution_count": 294,
   "metadata": {},
   "outputs": [
    {
     "name": "stdout",
     "output_type": "stream",
     "text": [
      "-----------------------Save the unique documents into a file------------------------\n",
      "-----------------------Fetch the unique documents from file to index------------------------\n"
     ]
    },
    {
     "data": {
      "text/html": [
       "<div>\n",
       "<style scoped>\n",
       "    .dataframe tbody tr th:only-of-type {\n",
       "        vertical-align: middle;\n",
       "    }\n",
       "\n",
       "    .dataframe tbody tr th {\n",
       "        vertical-align: top;\n",
       "    }\n",
       "\n",
       "    .dataframe thead th {\n",
       "        text-align: right;\n",
       "    }\n",
       "</style>\n",
       "<table border=\"1\" class=\"dataframe\">\n",
       "  <thead>\n",
       "    <tr style=\"text-align: right;\">\n",
       "      <th></th>\n",
       "      <th>Title</th>\n",
       "      <th>Description</th>\n",
       "      <th>Category</th>\n",
       "      <th>link</th>\n",
       "      <th>DateTime</th>\n",
       "    </tr>\n",
       "  </thead>\n",
       "  <tbody>\n",
       "    <tr>\n",
       "      <td>0</td>\n",
       "      <td>chance to right-size after pandemic pause - hi...</td>\n",
       "      <td>Chance to right-size after pandemic pause  Hin...</td>\n",
       "      <td>Sports</td>\n",
       "      <td>https://www.hindustantimes.com/cricket/chance-...</td>\n",
       "      <td>2021-01-01 02:36:36</td>\n",
       "    </tr>\n",
       "    <tr>\n",
       "      <td>1</td>\n",
       "      <td>billionaire jeff bezos’s xmas bonus for cricke...</td>\n",
       "      <td>Billionaire Jeff Bezos’s Xmas bonus for cricke...</td>\n",
       "      <td>Sports</td>\n",
       "      <td>https://www.theaustralian.com.au/sport/cricket...</td>\n",
       "      <td>2021-01-01 02:37:00</td>\n",
       "    </tr>\n",
       "    <tr>\n",
       "      <td>2</td>\n",
       "      <td>new zealand skipper sophie devine takes diabet...</td>\n",
       "      <td>New Zealand skipper Sophie Devine takes diabet...</td>\n",
       "      <td>Sports</td>\n",
       "      <td>https://www.hindustantimes.com/cricket/new-zea...</td>\n",
       "      <td>2021-01-01 02:56:58</td>\n",
       "    </tr>\n",
       "    <tr>\n",
       "      <td>3</td>\n",
       "      <td>ms dhoni to suresh raina: indian cricketers wh...</td>\n",
       "      <td>MS Dhoni to Suresh Raina: Indian cricketers wh...</td>\n",
       "      <td>Sports</td>\n",
       "      <td>https://www.timesnownews.com/sports/cricket/ar...</td>\n",
       "      <td>2021-01-01 03:47:00</td>\n",
       "    </tr>\n",
       "    <tr>\n",
       "      <td>4</td>\n",
       "      <td>ren vs st bbl dream11 prediction today: fantas...</td>\n",
       "      <td>REN vs ST BBL Dream11 Prediction Today: Fantas...</td>\n",
       "      <td>Sports</td>\n",
       "      <td>https://www.timesnownews.com/sports/cricket/ar...</td>\n",
       "      <td>2021-01-01 05:25:57</td>\n",
       "    </tr>\n",
       "  </tbody>\n",
       "</table>\n",
       "</div>"
      ],
      "text/plain": [
       "                                               Title  \\\n",
       "0  chance to right-size after pandemic pause - hi...   \n",
       "1  billionaire jeff bezos’s xmas bonus for cricke...   \n",
       "2  new zealand skipper sophie devine takes diabet...   \n",
       "3  ms dhoni to suresh raina: indian cricketers wh...   \n",
       "4  ren vs st bbl dream11 prediction today: fantas...   \n",
       "\n",
       "                                         Description Category  \\\n",
       "0  Chance to right-size after pandemic pause  Hin...   Sports   \n",
       "1  Billionaire Jeff Bezos’s Xmas bonus for cricke...   Sports   \n",
       "2  New Zealand skipper Sophie Devine takes diabet...   Sports   \n",
       "3  MS Dhoni to Suresh Raina: Indian cricketers wh...   Sports   \n",
       "4  REN vs ST BBL Dream11 Prediction Today: Fantas...   Sports   \n",
       "\n",
       "                                                link             DateTime  \n",
       "0  https://www.hindustantimes.com/cricket/chance-...  2021-01-01 02:36:36  \n",
       "1  https://www.theaustralian.com.au/sport/cricket...  2021-01-01 02:37:00  \n",
       "2  https://www.hindustantimes.com/cricket/new-zea...  2021-01-01 02:56:58  \n",
       "3  https://www.timesnownews.com/sports/cricket/ar...  2021-01-01 03:47:00  \n",
       "4  https://www.timesnownews.com/sports/cricket/ar...  2021-01-01 05:25:57  "
      ]
     },
     "execution_count": 294,
     "metadata": {},
     "output_type": "execute_result"
    }
   ],
   "source": [
    "#Store the aggegarted in documents from bing and google search eninges into a single file calles uniquenews .csv document\n",
    "# Sort the news by datetime so that it will be easy to rank consider latest news with higher rank\n",
    "\n",
    "uniquenews_df=Aggregatenews(categories[0],searchsites,'cp1252').sort_values(by=['DateTime'])\n",
    "print(\"-----------------------Save the unique documents into a file------------------------\")\n",
    "uniquenews_df.to_csv('Data/'+categories[0]+'/uniquenews.csv', index = False, header=True)\n",
    "\n",
    "\n",
    "\n",
    "print(\"-----------------------Fetch the unique documents from file to index------------------------\")\n",
    "\n",
    "df_sports = pd.read_csv('Data/'+categories[0]+'/uniquenews.csv',sep=\",\")\n",
    "df_sports=df_sports.reset_index()\n",
    "df_sports=df_sports.drop(['index'],axis=1)\n",
    "df_sports.head(5)"
   ]
  },
  {
   "cell_type": "markdown",
   "metadata": {},
   "source": [
    "### Aggregating news for Science Category "
   ]
  },
  {
   "cell_type": "code",
   "execution_count": 295,
   "metadata": {},
   "outputs": [
    {
     "name": "stdout",
     "output_type": "stream",
     "text": [
      "-----------------------Save the unique documents into a file------------------------\n",
      "-----------------------Fetch the unique documents from file to index------------------------\n"
     ]
    },
    {
     "data": {
      "text/html": [
       "<div>\n",
       "<style scoped>\n",
       "    .dataframe tbody tr th:only-of-type {\n",
       "        vertical-align: middle;\n",
       "    }\n",
       "\n",
       "    .dataframe tbody tr th {\n",
       "        vertical-align: top;\n",
       "    }\n",
       "\n",
       "    .dataframe thead th {\n",
       "        text-align: right;\n",
       "    }\n",
       "</style>\n",
       "<table border=\"1\" class=\"dataframe\">\n",
       "  <thead>\n",
       "    <tr style=\"text-align: right;\">\n",
       "      <th></th>\n",
       "      <th>Title</th>\n",
       "      <th>Description</th>\n",
       "      <th>Category</th>\n",
       "      <th>Link</th>\n",
       "      <th>DateTime</th>\n",
       "    </tr>\n",
       "  </thead>\n",
       "  <tbody>\n",
       "    <tr>\n",
       "      <td>0</td>\n",
       "      <td>uk rolls out astrazeneca vaccine, hails lead i...</td>\n",
       "      <td>UK rolls out AstraZeneca vaccine, hails lead i...</td>\n",
       "      <td>Science</td>\n",
       "      <td>https://uk.reuters.com/article/health-coronavi...</td>\n",
       "      <td>2021-01-04 00:05:00</td>\n",
       "    </tr>\n",
       "    <tr>\n",
       "      <td>1</td>\n",
       "      <td>uk rolls out astrazeneca vaccine, touts britis...</td>\n",
       "      <td>Britain began vaccinating its population on Mo...</td>\n",
       "      <td>Science</td>\n",
       "      <td>http://www.bing.com/news/apiclick.aspx?ref=Fex...</td>\n",
       "      <td>2021-01-04 00:36:00</td>\n",
       "    </tr>\n",
       "    <tr>\n",
       "      <td>2</td>\n",
       "      <td>india’s emergency approval to 2 covid vaccines...</td>\n",
       "      <td>In a Facebook post, Vice President Naidu said ...</td>\n",
       "      <td>Science</td>\n",
       "      <td>http://www.bing.com/news/apiclick.aspx?ref=Fex...</td>\n",
       "      <td>2021-01-04 01:09:00</td>\n",
       "    </tr>\n",
       "    <tr>\n",
       "      <td>3</td>\n",
       "      <td>covid-19 is dangerous, not vaccines -- 20 scie...</td>\n",
       "      <td>Covid-19 Is Dangerous, Not Vaccines -- 20 Scie...</td>\n",
       "      <td>Science</td>\n",
       "      <td>https://codeblue.galencentre.org/2021/01/04/co...</td>\n",
       "      <td>2021-01-04 02:06:38</td>\n",
       "    </tr>\n",
       "    <tr>\n",
       "      <td>4</td>\n",
       "      <td>india's covid vaccine is a leap of science, sa...</td>\n",
       "      <td>Vice President of India and Chairman of Rajya ...</td>\n",
       "      <td>Science</td>\n",
       "      <td>http://www.bing.com/news/apiclick.aspx?ref=Fex...</td>\n",
       "      <td>2021-01-04 04:03:00</td>\n",
       "    </tr>\n",
       "  </tbody>\n",
       "</table>\n",
       "</div>"
      ],
      "text/plain": [
       "                                               Title  \\\n",
       "0  uk rolls out astrazeneca vaccine, hails lead i...   \n",
       "1  uk rolls out astrazeneca vaccine, touts britis...   \n",
       "2  india’s emergency approval to 2 covid vaccines...   \n",
       "3  covid-19 is dangerous, not vaccines -- 20 scie...   \n",
       "4  india's covid vaccine is a leap of science, sa...   \n",
       "\n",
       "                                         Description Category  \\\n",
       "0  UK rolls out AstraZeneca vaccine, hails lead i...  Science   \n",
       "1  Britain began vaccinating its population on Mo...  Science   \n",
       "2  In a Facebook post, Vice President Naidu said ...  Science   \n",
       "3  Covid-19 Is Dangerous, Not Vaccines -- 20 Scie...  Science   \n",
       "4  Vice President of India and Chairman of Rajya ...  Science   \n",
       "\n",
       "                                                Link             DateTime  \n",
       "0  https://uk.reuters.com/article/health-coronavi...  2021-01-04 00:05:00  \n",
       "1  http://www.bing.com/news/apiclick.aspx?ref=Fex...  2021-01-04 00:36:00  \n",
       "2  http://www.bing.com/news/apiclick.aspx?ref=Fex...  2021-01-04 01:09:00  \n",
       "3  https://codeblue.galencentre.org/2021/01/04/co...  2021-01-04 02:06:38  \n",
       "4  http://www.bing.com/news/apiclick.aspx?ref=Fex...  2021-01-04 04:03:00  "
      ]
     },
     "execution_count": 295,
     "metadata": {},
     "output_type": "execute_result"
    }
   ],
   "source": [
    "#Store the aggegarted in documents from bing and google search eninges into a single file calles uniquenews .csv document\n",
    "# Sort the news by datetime so that it will be easy to rank consider latest news with higher rank\n",
    "\n",
    "uniquenews_df=Aggregatenews(categories[1],searchsites,'utf-8').sort_values(by=['DateTime'])\n",
    "print(\"-----------------------Save the unique documents into a file------------------------\")\n",
    "uniquenews_df.to_csv('Data/'+categories[1]+'/uniquenews.csv', index = False, header=True)\n",
    "\n",
    "\n",
    "\n",
    "print(\"-----------------------Fetch the unique documents from file to index------------------------\")\n",
    "\n",
    "df_science = pd.read_csv('Data/'+categories[1]+'/uniquenews.csv',sep=\",\")\n",
    "df_science=df_science.reset_index()\n",
    "df_science=df_science.drop(['index'],axis=1)\n",
    "df_science.head(5)"
   ]
  },
  {
   "cell_type": "markdown",
   "metadata": {},
   "source": [
    " <a id=section4></a>\n",
    "# Task 3 Ranking "
   ]
  },
  {
   "cell_type": "markdown",
   "metadata": {},
   "source": [
    "<a id=section401></a>\n",
    "### a) Approach 1\n",
    "Assumptions made while ranking"
   ]
  },
  {
   "cell_type": "markdown",
   "metadata": {},
   "source": [
    "#### Aggregated news sorted by datetime to rank latest news as highest rank \n",
    "\n",
    "As an observation we havent find default ranking provided by the google or bing news search engine. So made an assumption after manual evalaution to consider latest news as highest rank. \n",
    "\n",
    "Example least rank starting from 1 to number of documents in collection."
   ]
  },
  {
   "cell_type": "code",
   "execution_count": 296,
   "metadata": {},
   "outputs": [],
   "source": [
    "#Rank the document and generate doucmentId after ranking\n",
    "\n",
    "def Rankdocument(df):\n",
    "    df['Rank'] = range(1, len(df) + 1)\n",
    "    df['DocumentId'] = range(1, len(df) + 1)\n",
    "    \n",
    "    #Generatign document ID \n",
    "    df['DocumentId'] = 'Doc ' + df['DocumentId'].astype(str)\n",
    "    return df\n",
    "\n",
    "# For sports Category\n",
    "df_sports = Rankdocument(df_sports)\n",
    "\n",
    "# For Science Category\n",
    "df_science = Rankdocument(df_science)"
   ]
  },
  {
   "cell_type": "code",
   "execution_count": 297,
   "metadata": {},
   "outputs": [
    {
     "data": {
      "text/html": [
       "<div>\n",
       "<style scoped>\n",
       "    .dataframe tbody tr th:only-of-type {\n",
       "        vertical-align: middle;\n",
       "    }\n",
       "\n",
       "    .dataframe tbody tr th {\n",
       "        vertical-align: top;\n",
       "    }\n",
       "\n",
       "    .dataframe thead th {\n",
       "        text-align: right;\n",
       "    }\n",
       "</style>\n",
       "<table border=\"1\" class=\"dataframe\">\n",
       "  <thead>\n",
       "    <tr style=\"text-align: right;\">\n",
       "      <th></th>\n",
       "      <th>Title</th>\n",
       "      <th>Description</th>\n",
       "      <th>Category</th>\n",
       "      <th>link</th>\n",
       "      <th>DateTime</th>\n",
       "      <th>Rank</th>\n",
       "      <th>DocumentId</th>\n",
       "    </tr>\n",
       "  </thead>\n",
       "  <tbody>\n",
       "    <tr>\n",
       "      <td>0</td>\n",
       "      <td>chance to right-size after pandemic pause - hi...</td>\n",
       "      <td>Chance to right-size after pandemic pause  Hin...</td>\n",
       "      <td>Sports</td>\n",
       "      <td>https://www.hindustantimes.com/cricket/chance-...</td>\n",
       "      <td>2021-01-01 02:36:36</td>\n",
       "      <td>1</td>\n",
       "      <td>Doc 1</td>\n",
       "    </tr>\n",
       "    <tr>\n",
       "      <td>1</td>\n",
       "      <td>billionaire jeff bezos’s xmas bonus for cricke...</td>\n",
       "      <td>Billionaire Jeff Bezos’s Xmas bonus for cricke...</td>\n",
       "      <td>Sports</td>\n",
       "      <td>https://www.theaustralian.com.au/sport/cricket...</td>\n",
       "      <td>2021-01-01 02:37:00</td>\n",
       "      <td>2</td>\n",
       "      <td>Doc 2</td>\n",
       "    </tr>\n",
       "    <tr>\n",
       "      <td>2</td>\n",
       "      <td>new zealand skipper sophie devine takes diabet...</td>\n",
       "      <td>New Zealand skipper Sophie Devine takes diabet...</td>\n",
       "      <td>Sports</td>\n",
       "      <td>https://www.hindustantimes.com/cricket/new-zea...</td>\n",
       "      <td>2021-01-01 02:56:58</td>\n",
       "      <td>3</td>\n",
       "      <td>Doc 3</td>\n",
       "    </tr>\n",
       "    <tr>\n",
       "      <td>3</td>\n",
       "      <td>ms dhoni to suresh raina: indian cricketers wh...</td>\n",
       "      <td>MS Dhoni to Suresh Raina: Indian cricketers wh...</td>\n",
       "      <td>Sports</td>\n",
       "      <td>https://www.timesnownews.com/sports/cricket/ar...</td>\n",
       "      <td>2021-01-01 03:47:00</td>\n",
       "      <td>4</td>\n",
       "      <td>Doc 4</td>\n",
       "    </tr>\n",
       "    <tr>\n",
       "      <td>4</td>\n",
       "      <td>ren vs st bbl dream11 prediction today: fantas...</td>\n",
       "      <td>REN vs ST BBL Dream11 Prediction Today: Fantas...</td>\n",
       "      <td>Sports</td>\n",
       "      <td>https://www.timesnownews.com/sports/cricket/ar...</td>\n",
       "      <td>2021-01-01 05:25:57</td>\n",
       "      <td>5</td>\n",
       "      <td>Doc 5</td>\n",
       "    </tr>\n",
       "  </tbody>\n",
       "</table>\n",
       "</div>"
      ],
      "text/plain": [
       "                                               Title  \\\n",
       "0  chance to right-size after pandemic pause - hi...   \n",
       "1  billionaire jeff bezos’s xmas bonus for cricke...   \n",
       "2  new zealand skipper sophie devine takes diabet...   \n",
       "3  ms dhoni to suresh raina: indian cricketers wh...   \n",
       "4  ren vs st bbl dream11 prediction today: fantas...   \n",
       "\n",
       "                                         Description Category  \\\n",
       "0  Chance to right-size after pandemic pause  Hin...   Sports   \n",
       "1  Billionaire Jeff Bezos’s Xmas bonus for cricke...   Sports   \n",
       "2  New Zealand skipper Sophie Devine takes diabet...   Sports   \n",
       "3  MS Dhoni to Suresh Raina: Indian cricketers wh...   Sports   \n",
       "4  REN vs ST BBL Dream11 Prediction Today: Fantas...   Sports   \n",
       "\n",
       "                                                link             DateTime  \\\n",
       "0  https://www.hindustantimes.com/cricket/chance-...  2021-01-01 02:36:36   \n",
       "1  https://www.theaustralian.com.au/sport/cricket...  2021-01-01 02:37:00   \n",
       "2  https://www.hindustantimes.com/cricket/new-zea...  2021-01-01 02:56:58   \n",
       "3  https://www.timesnownews.com/sports/cricket/ar...  2021-01-01 03:47:00   \n",
       "4  https://www.timesnownews.com/sports/cricket/ar...  2021-01-01 05:25:57   \n",
       "\n",
       "   Rank DocumentId  \n",
       "0     1      Doc 1  \n",
       "1     2      Doc 2  \n",
       "2     3      Doc 3  \n",
       "3     4      Doc 4  \n",
       "4     5      Doc 5  "
      ]
     },
     "execution_count": 297,
     "metadata": {},
     "output_type": "execute_result"
    }
   ],
   "source": [
    "df_sports.head()"
   ]
  },
  {
   "cell_type": "code",
   "execution_count": 298,
   "metadata": {},
   "outputs": [
    {
     "data": {
      "text/html": [
       "<div>\n",
       "<style scoped>\n",
       "    .dataframe tbody tr th:only-of-type {\n",
       "        vertical-align: middle;\n",
       "    }\n",
       "\n",
       "    .dataframe tbody tr th {\n",
       "        vertical-align: top;\n",
       "    }\n",
       "\n",
       "    .dataframe thead th {\n",
       "        text-align: right;\n",
       "    }\n",
       "</style>\n",
       "<table border=\"1\" class=\"dataframe\">\n",
       "  <thead>\n",
       "    <tr style=\"text-align: right;\">\n",
       "      <th></th>\n",
       "      <th>Title</th>\n",
       "      <th>Description</th>\n",
       "      <th>Category</th>\n",
       "      <th>Link</th>\n",
       "      <th>DateTime</th>\n",
       "      <th>Rank</th>\n",
       "      <th>DocumentId</th>\n",
       "    </tr>\n",
       "  </thead>\n",
       "  <tbody>\n",
       "    <tr>\n",
       "      <td>0</td>\n",
       "      <td>uk rolls out astrazeneca vaccine, hails lead i...</td>\n",
       "      <td>UK rolls out AstraZeneca vaccine, hails lead i...</td>\n",
       "      <td>Science</td>\n",
       "      <td>https://uk.reuters.com/article/health-coronavi...</td>\n",
       "      <td>2021-01-04 00:05:00</td>\n",
       "      <td>1</td>\n",
       "      <td>Doc 1</td>\n",
       "    </tr>\n",
       "    <tr>\n",
       "      <td>1</td>\n",
       "      <td>uk rolls out astrazeneca vaccine, touts britis...</td>\n",
       "      <td>Britain began vaccinating its population on Mo...</td>\n",
       "      <td>Science</td>\n",
       "      <td>http://www.bing.com/news/apiclick.aspx?ref=Fex...</td>\n",
       "      <td>2021-01-04 00:36:00</td>\n",
       "      <td>2</td>\n",
       "      <td>Doc 2</td>\n",
       "    </tr>\n",
       "    <tr>\n",
       "      <td>2</td>\n",
       "      <td>india’s emergency approval to 2 covid vaccines...</td>\n",
       "      <td>In a Facebook post, Vice President Naidu said ...</td>\n",
       "      <td>Science</td>\n",
       "      <td>http://www.bing.com/news/apiclick.aspx?ref=Fex...</td>\n",
       "      <td>2021-01-04 01:09:00</td>\n",
       "      <td>3</td>\n",
       "      <td>Doc 3</td>\n",
       "    </tr>\n",
       "    <tr>\n",
       "      <td>3</td>\n",
       "      <td>covid-19 is dangerous, not vaccines -- 20 scie...</td>\n",
       "      <td>Covid-19 Is Dangerous, Not Vaccines -- 20 Scie...</td>\n",
       "      <td>Science</td>\n",
       "      <td>https://codeblue.galencentre.org/2021/01/04/co...</td>\n",
       "      <td>2021-01-04 02:06:38</td>\n",
       "      <td>4</td>\n",
       "      <td>Doc 4</td>\n",
       "    </tr>\n",
       "    <tr>\n",
       "      <td>4</td>\n",
       "      <td>india's covid vaccine is a leap of science, sa...</td>\n",
       "      <td>Vice President of India and Chairman of Rajya ...</td>\n",
       "      <td>Science</td>\n",
       "      <td>http://www.bing.com/news/apiclick.aspx?ref=Fex...</td>\n",
       "      <td>2021-01-04 04:03:00</td>\n",
       "      <td>5</td>\n",
       "      <td>Doc 5</td>\n",
       "    </tr>\n",
       "  </tbody>\n",
       "</table>\n",
       "</div>"
      ],
      "text/plain": [
       "                                               Title  \\\n",
       "0  uk rolls out astrazeneca vaccine, hails lead i...   \n",
       "1  uk rolls out astrazeneca vaccine, touts britis...   \n",
       "2  india’s emergency approval to 2 covid vaccines...   \n",
       "3  covid-19 is dangerous, not vaccines -- 20 scie...   \n",
       "4  india's covid vaccine is a leap of science, sa...   \n",
       "\n",
       "                                         Description Category  \\\n",
       "0  UK rolls out AstraZeneca vaccine, hails lead i...  Science   \n",
       "1  Britain began vaccinating its population on Mo...  Science   \n",
       "2  In a Facebook post, Vice President Naidu said ...  Science   \n",
       "3  Covid-19 Is Dangerous, Not Vaccines -- 20 Scie...  Science   \n",
       "4  Vice President of India and Chairman of Rajya ...  Science   \n",
       "\n",
       "                                                Link             DateTime  \\\n",
       "0  https://uk.reuters.com/article/health-coronavi...  2021-01-04 00:05:00   \n",
       "1  http://www.bing.com/news/apiclick.aspx?ref=Fex...  2021-01-04 00:36:00   \n",
       "2  http://www.bing.com/news/apiclick.aspx?ref=Fex...  2021-01-04 01:09:00   \n",
       "3  https://codeblue.galencentre.org/2021/01/04/co...  2021-01-04 02:06:38   \n",
       "4  http://www.bing.com/news/apiclick.aspx?ref=Fex...  2021-01-04 04:03:00   \n",
       "\n",
       "   Rank DocumentId  \n",
       "0     1      Doc 1  \n",
       "1     2      Doc 2  \n",
       "2     3      Doc 3  \n",
       "3     4      Doc 4  \n",
       "4     5      Doc 5  "
      ]
     },
     "execution_count": 298,
     "metadata": {},
     "output_type": "execute_result"
    }
   ],
   "source": [
    "df_science.head()"
   ]
  },
  {
   "cell_type": "code",
   "execution_count": 299,
   "metadata": {},
   "outputs": [
    {
     "name": "stdout",
     "output_type": "stream",
     "text": [
      "----Saved ResultantRanks_A1.txt file for Sports Category-----\n",
      "----Saved ResultantRanks_A1.txt file for Science Category-----\n"
     ]
    }
   ],
   "source": [
    "def StoreApproach1Results(df,category): \n",
    "    selected_df = df[['Description','DateTime','Rank','DocumentId']]\n",
    "    selected_df.to_csv('Data/'+category+'/Rank/ResultantRanks_A1.txt', header=['Description','DateTime','Rank','DocumentId'], index=None, sep=',')\n",
    "    print('----Saved ResultantRanks_A1.txt file for '+ category+' Category-----')\n",
    "\n",
    "\n",
    " # For Sports Category    \n",
    "StoreApproach1Results(df_sports,categories[0]) \n",
    "\n",
    "\n",
    "# For Science Category\n",
    "StoreApproach1Results(df_science,categories[1])\n"
   ]
  },
  {
   "cell_type": "markdown",
   "metadata": {},
   "source": [
    "<a id=section402></a>\n",
    "### b) Approach 2\n",
    "\n",
    "Assumptions made while ranking\n",
    "\n",
    "**Used TF-IDF aproach along with Cosine similary to rank the documents** </br>\n",
    "\n",
    "\n",
    "TF-IDF stands for “Term Frequency — Inverse Document Frequency”. This is a technique to quantify a word in documents, we generally compute a weight to each word which signifies the importance of the word in the document and corpus. This method is a widely used technique in Information Retrieval and Text Mining."
   ]
  },
  {
   "cell_type": "markdown",
   "metadata": {},
   "source": [
    "Need to do some **Text Preprocessing** before we proceed to compute TF-IDF\n",
    "\n",
    "Below listed pre-processing steps we’ll be performing on documents: Considered only Description column from the dataset for text processing.\n",
    "\n",
    "Documents:\n",
    "\n",
    "    Lowercase the text \n",
    "    \n",
    "    Expand Contractions\n",
    "    \n",
    "    Clean the text\n",
    "    \n",
    "    Remove Stopwords\n",
    "    \n",
    "    Lemmatize words\n"
   ]
  },
  {
   "cell_type": "markdown",
   "metadata": {},
   "source": [
    " ### Lowercase the text "
   ]
  },
  {
   "cell_type": "code",
   "execution_count": 300,
   "metadata": {},
   "outputs": [],
   "source": [
    "def ToLowerCase(df):\n",
    "    df[\"Title\"] = df[\"Title\"].str.lower()\n",
    "    df[\"Description\"] = df[\"Description\"].str.lower()    \n",
    "    return df\n",
    "\n",
    "#For Sports cateogry\n",
    "df_sports = ToLowerCase(df_sports)\n",
    "\n",
    "#For Science cateogry\n",
    "df_science = ToLowerCase(df_science)"
   ]
  },
  {
   "cell_type": "markdown",
   "metadata": {},
   "source": [
    "### Expand Contractions"
   ]
  },
  {
   "cell_type": "code",
   "execution_count": 301,
   "metadata": {},
   "outputs": [],
   "source": [
    "# Dictionary of english Contractions\n",
    "\n",
    "\n",
    "contractions_dict = { \"ain't\": \"are not\",\"'s\":\" is\",\"aren't\": \"are not\",\"can't\": \"can not\",\"can't've\": \"cannot have\",\n",
    "\"'cause\": \"because\",\"could've\": \"could have\",\"couldn't\": \"could not\",\"couldn't've\": \"could not have\",\n",
    "\"didn't\": \"did not\",\"doesn't\": \"does not\",\"don't\": \"do not\",\"hadn't\": \"had not\",\"hadn't've\": \"had not have\",\n",
    "\"hasn't\": \"has not\",\"haven't\": \"have not\",\"he'd\": \"he would\",\"he'd've\": \"he would have\",\"he'll\": \"he will\",\n",
    "\"he'll've\": \"he will have\",\"how'd\": \"how did\",\"how'd'y\": \"how do you\",\"how'll\": \"how will\",\"i'd\": \"i would\",\n",
    "\"i'd've\": \"i would have\",\"i'll\": \"i will\",\"i'll've\": \"i will have\",\"i'm\": \"i am\",\"i've\": \"i have\",\n",
    "\"isn't\": \"is not\",\"it'd\": \"it would\",\"it'd've\": \"it would have\",\"it'll\": \"it will\",\"it'll've\": \"it will have\",\n",
    "\"let's\": \"let us\",\"ma'am\": \"madam\",\"mayn't\": \"may not\",\"might've\": \"might have\",\"mightn't\": \"might not\",\n",
    "\"mightn't've\": \"might not have\",\"must've\": \"must have\",\"mustn't\": \"must not\",\"mustn't've\": \"must not have\",\n",
    "\"needn't\": \"need not\",\"needn't've\": \"need not have\",\"o'clock\": \"of the clock\",\"oughtn't\": \"ought not\",\n",
    "\"oughtn't've\": \"ought not have\",\"shan't\": \"shall not\",\"sha'n't\": \"shall not\",\n",
    "\"shan't've\": \"shall not have\",\"she'd\": \"she would\",\"she'd've\": \"she would have\",\"she'll\": \"she will\",\n",
    "\"she'll've\": \"she will have\",\"should've\": \"should have\",\"shouldn't\": \"should not\",\n",
    "\"shouldn't've\": \"should not have\",\"so've\": \"so have\",\"that'd\": \"that would\",\"that'd've\": \"that would have\",\n",
    "\"there'd\": \"there would\",\"there'd've\": \"there would have\",\n",
    "\"they'd\": \"they would\",\"they'd've\": \"they would have\",\"they'll\": \"they will\",\"they'll've\": \"they will have\",\n",
    "\"they're\": \"they are\",\"they've\": \"they have\",\"to've\": \"to have\",\"wasn't\": \"was not\",\"we'd\": \"we would\",\n",
    "\"we'd've\": \"we would have\",\"we'll\": \"we will\",\"we'll've\": \"we will have\",\"we're\": \"we are\",\"we've\": \"we have\",\n",
    "\"weren't\": \"were not\",\"what'll\": \"what will\",\"what'll've\": \"what will have\",\"what're\": \"what are\",\n",
    "\"what've\": \"what have\",\"when've\": \"when have\",\"where'd\": \"where did\",\n",
    "\"where've\": \"where have\",\"who'll\": \"who will\",\"who'll've\": \"who will have\",\"who've\": \"who have\",\n",
    "\"why've\": \"why have\",\"will've\": \"will have\",\"won't\": \"will not\",\"won't've\": \"will not have\",\n",
    "\"would've\": \"would have\",\"wouldn't\": \"would not\",\"wouldn't've\": \"would not have\",\"y'all\": \"you all\",\n",
    "\"y'all'd\": \"you all would\",\"y'all'd've\": \"you all would have\",\"y'all're\": \"you all are\",\"y'all've\": \"you all have\",\n",
    "\"you'd\": \"you would\",\"you'd've\": \"you would have\",\"you'll\": \"you will\",\"you'll've\": \"you will have\",\n",
    "\"you're\": \"you are\",\"you've\": \"you have\"}\n",
    "\n",
    "# Regular expression for finding contractions\n",
    "contractions_re=re.compile('(%s)' % '|'.join(contractions_dict.keys()))\n",
    "\n",
    "# Function for expanding contractions\n",
    "def expand_contractions(text,contractions_dict=contractions_dict):\n",
    "    def replace(match):\n",
    "        return contractions_dict[match.group(0)]\n",
    "    return contractions_re.sub(replace, text)"
   ]
  },
  {
   "cell_type": "code",
   "execution_count": 302,
   "metadata": {},
   "outputs": [],
   "source": [
    "# Expanding Contractions\n",
    "\n",
    "#  For  Sports Category\n",
    "df_sports['Title']=df_sports['Title'].apply(lambda x:expand_contractions(x))\n",
    "df_sports['Description']=df_sports['Description'].apply(lambda x:expand_contractions(x))\n",
    "\n",
    "\n",
    "#For Science Category\n",
    "\n",
    "df_science['Title']=df_science['Title'].apply(lambda x:expand_contractions(x))\n",
    "df_science['Description']=df_science['Description'].apply(lambda x:expand_contractions(x))\n"
   ]
  },
  {
   "cell_type": "markdown",
   "metadata": {},
   "source": [
    "### Clean the text"
   ]
  },
  {
   "cell_type": "code",
   "execution_count": 303,
   "metadata": {},
   "outputs": [],
   "source": [
    "# Function for Cleaning Text\n",
    "def clean_text(text):\n",
    "    text=re.sub('\\w*\\d\\w*','', text)\n",
    "    text=re.sub('\\n',' ',text)\n",
    "    text=re.sub(r\"http\\S+\", \"\", text)\n",
    "    text=re.sub('[^a-z]',' ',text)\n",
    "    return text\n",
    " \n",
    "# Cleaning tetx for Sports Category\n",
    "df_sports['Title']=df_sports['Title'].apply(lambda x:clean_text(x))\n",
    "df_sports['Description']=df_sports['Description'].apply(lambda x:clean_text(x))\n",
    "#df_sports.head(4)    \n",
    "\n",
    "# Cleaning tetx for Science Category\n",
    "df_science['Title']=df_science['Title'].apply(lambda x:clean_text(x))\n",
    "df_science['Description']=df_science['Description'].apply(lambda x:clean_text(x))\n",
    "#df_science.head(4)   "
   ]
  },
  {
   "cell_type": "markdown",
   "metadata": {},
   "source": [
    "Previously, we replaced many things with blank spaces. This will create extra empty spaces between two words. Therefore, we’ll reduce the number of spaces to one."
   ]
  },
  {
   "cell_type": "code",
   "execution_count": 304,
   "metadata": {},
   "outputs": [],
   "source": [
    "# Removing extra spaces\n",
    "\n",
    "# For Sports Category\n",
    "df_sports['Title']=df_sports['Title'].apply(lambda x: re.sub(' +',' ',x))\n",
    "df_sports['Description']=df_sports['Description'].apply(lambda x: re.sub(' +',' ',x))\n",
    "\n",
    "\n",
    "# For Science Category\n",
    "df_science['Title']=df_science['Title'].apply(lambda x: re.sub(' +',' ',x))\n",
    "df_science['Description']=df_science['Description'].apply(lambda x: re.sub(' +',' ',x))"
   ]
  },
  {
   "cell_type": "code",
   "execution_count": 305,
   "metadata": {},
   "outputs": [],
   "source": [
    "# Stopwords removal & Lemmatizing tokens using SpaCy\n",
    "import spacy\n",
    "import en_core_web_sm\n",
    "nlp = en_core_web_sm.load()\n",
    "\n",
    "def Lemmatization(df):\n",
    "# Removing Stopwords and Lemmatizing words\n",
    "    df['lemmatizedtitle']=df['Title'].apply(lambda x: ' '.join([token.lemma_ for token in list(nlp(x)) if (token.is_stop==False)]))\n",
    "    df['lemmatizeddescription']=df['Description'].apply(lambda x: ' '.join([token.lemma_ for token in list(nlp(x)) if (token.is_stop==False)]))\n",
    "    return df\n",
    "\n",
    "df_sports =Lemmatization(df_sports)\n",
    "\n",
    "df_science =Lemmatization(df_science)\n"
   ]
  },
  {
   "cell_type": "code",
   "execution_count": 306,
   "metadata": {},
   "outputs": [],
   "source": [
    "#news_list = df_sports[\"lemmatizeddescription\"]\n"
   ]
  },
  {
   "cell_type": "markdown",
   "metadata": {
    "id": "_Yv_nLXmZH77"
   },
   "source": [
    "### Create Term-Document Matrix with TF-IDF weighting"
   ]
  },
  {
   "cell_type": "code",
   "execution_count": 307,
   "metadata": {},
   "outputs": [
    {
     "name": "stdout",
     "output_type": "stream",
     "text": [
      "           0    1    2    3    4    5    6    7    8    9   ...   26  \\\n",
      "aakash    0.0  0.0  0.0  0.0  0.0  0.0  0.0  0.0  0.0  0.0  ...  0.0   \n",
      "action    0.0  0.0  0.0  0.0  0.0  0.0  0.0  0.0  0.0  0.0  ...  0.0   \n",
      "activity  0.0  0.0  0.0  0.0  0.0  0.0  0.0  0.0  0.0  0.0  ...  0.0   \n",
      "africa    0.0  0.0  0.0  0.0  0.0  0.0  0.0  0.0  0.0  0.0  ...  0.0   \n",
      "ahead     0.0  0.0  0.0  0.0  0.0  0.0  0.0  0.0  0.0  0.0  ...  0.0   \n",
      "\n",
      "                27   28   29   30   31        32        33        34   35  \n",
      "aakash    0.000000  0.0  0.0  0.0  0.0  0.000000  0.000000  0.000000  0.0  \n",
      "action    0.000000  0.0  0.0  0.0  0.0  0.218682  0.000000  0.000000  0.0  \n",
      "activity  0.000000  0.0  0.0  0.0  0.0  0.000000  0.000000  0.322291  0.0  \n",
      "africa    0.263852  0.0  0.0  0.0  0.0  0.000000  0.176917  0.000000  0.0  \n",
      "ahead     0.000000  0.0  0.0  0.0  0.0  0.000000  0.000000  0.000000  0.0  \n",
      "\n",
      "[5 rows x 36 columns]\n",
      "(261, 36)\n",
      "-------------------TF-IDF for Sports Cateogry ---------------------\n"
     ]
    }
   ],
   "source": [
    "#Takes the list of documents on which need to construct the vocabulary. Returns the vocabulary indexed dataframe.\n",
    "\n",
    "vectorizer = TfidfVectorizer(analyzer='word',stop_words= 'english')\n",
    "\n",
    "def tfidfweighting(news_list): \n",
    "    # Instantiate a TfidfVectorizer object\n",
    "    news_list.head(10)\n",
    "    # It fits the data and transform it as a vector\n",
    "    X = vectorizer.fit_transform(news_list)\n",
    "    # Convert the X as transposed matrix\n",
    "    X = X.T.toarray()\n",
    "    # Create a DataFrame and set the vocabulary as the index\n",
    "    df_vocbIndex = pd.DataFrame(X, index=vectorizer.get_feature_names())\n",
    "    print(df_vocbIndex.head())\n",
    "    print(df_vocbIndex.shape)\n",
    "    return df_vocbIndex\n",
    "\n",
    " \n",
    "## Calling method for Sports cataegory\n",
    "newslist_sports = df_sports[\"lemmatizeddescription\"]\n",
    "df_sportsvocbIndex = tfidfweighting(newslist_sports)\n",
    "print('-------------------TF-IDF for Sports Cateogry ---------------------')\n",
    " \n",
    "## Calling method for Science cataegory\n",
    "#newslist_science = df_science[\"lemmatizeddescription\"]\n",
    "#df_sciencevocbIndex = tfidfweighting(newslist_science)\n",
    "#print('-------------------TF-IDF for Science Cateogry -------------------')"
   ]
  },
  {
   "cell_type": "markdown",
   "metadata": {
    "id": "1b1RdiYWZr2z"
   },
   "source": [
    "### Calculate the similarity using cosine similarity."
   ]
  },
  {
   "cell_type": "code",
   "execution_count": 308,
   "metadata": {},
   "outputs": [],
   "source": [
    "# Perform the cosine similarity calculation based on given query q , vocabulary index data frame, catagory \n",
    "# and document collection data frame. Store the ranked dovumnets based on consine similarirty \n",
    "# between the query amd document collection\n",
    "\n",
    "def get_similar_documents(q, df_vocbIndex,category,df,news_list):\n",
    "    print(\"query:\", q)\n",
    "    q = [q]\n",
    "    q_vec = vectorizer.transform(q).toarray().reshape(df_vocbIndex.shape[0],)\n",
    "    sim = {}\n",
    "    for i in range((df_vocbIndex.shape[1])-1):\n",
    "        sim[i] = np.dot(df_vocbIndex.loc[:, i].values, q_vec) / np.linalg.norm(df_vocbIndex.loc[:, i]) * np.linalg.norm(q_vec)\n",
    "\n",
    "    sim_sorted = sorted(sim.items(), key=lambda x: x[1], reverse=True)\n",
    "    #print(sim_sorted)    \n",
    "    print(df['DocumentId'].iloc[1])\n",
    "    \n",
    "    file = open('Data/'+category+'/Rank/ResultantRanks_A2.txt', 'w', newline ='') \n",
    "    header = ['DocumentId','Document' ,'Score', 'Rank']\n",
    "    writer = csv.DictWriter(file, fieldnames = header)\n",
    "    writer.writeheader()\n",
    "    rank = 0\n",
    "    with file:\n",
    "        for k, v in sim_sorted:\n",
    "            documentid= df.loc[df['lemmatizeddescription'] == news_list[k], 'DocumentId'].to_string(index=False).strip()\n",
    "            if v != 0.0:\n",
    "                print(\"Similaritas:\", v)\n",
    "                print(news_list[k])               \n",
    "                rank += 1\n",
    "                writer.writerow({\n",
    "                 'DocumentId' : documentid,   \n",
    "                 'Document' :  news_list[k],\n",
    "                 'Score': v,  \n",
    "                 'Rank': rank})\n",
    "            if v == 0.0:    \n",
    "                writer.writerow({\n",
    "                 'DocumentId' : documentid,    \n",
    "                 'Document' :  news_list[k],\n",
    "                 'Score': v,  \n",
    "                 'Rank': 0})"
   ]
  },
  {
   "cell_type": "code",
   "execution_count": 309,
   "metadata": {
    "scrolled": true
   },
   "outputs": [
    {
     "name": "stdout",
     "output_type": "stream",
     "text": [
      "query: cricket\n",
      "Doc 2\n",
      "Similaritas: 0.33661822422497106\n",
      "zimbabwe cricket decide suspend cricket activity country number covid case continue rise\n",
      "Similaritas: 0.21346921079512302\n",
      "factbox cricket south africa v sri lanka second test devdiscourse\n",
      "Similaritas: 0.2009475162322299\n",
      "state nation cricket survive come love yorkshire post\n",
      "Similaritas: 0.1980072342026692\n",
      "ms dhoni suresh raina indian cricketer retire international cricket time\n",
      "Similaritas: 0.17002819777317996\n",
      "t natarajan rise play tennis ball cricket chinnappampatti make indian test squad latestly\n",
      "Similaritas: 0.1592085097804155\n",
      "nk vs ov prediction today fantasy cricket tip northern knight vs otago volt time\n",
      "Similaritas: 0.15777590999973967\n",
      "hur vs sta prediction today fantasy cricket tip hobart hurricane vs melbourne star time\n",
      "Similaritas: 0.15149277580161657\n",
      "  new year new feel new chance cricket fraternity welcome hindustan times\n",
      "Similaritas: 0.14980876182779831\n",
      "ren vs st bbl prediction today fantasy cricket tip melbourne renegade vs sydney thunder time\n",
      "Similaritas: 0.13115317416767774\n",
      "indian cricket team life bio bubble easy cricketer play resume post covid player undergo mandatory day quarantine player\n",
      "Similaritas: 0.11225098527767838\n",
      "sri lanka cricket employee test covid positive test day nortje elgar south africa sri lanka pm modi speak sourav ganguly wish speedy recovery csa\n",
      "----------------------------------------------------------------------------------------------------\n"
     ]
    }
   ],
   "source": [
    "\n",
    "df_sports.head(10)\n",
    "\n",
    "get_similar_documents(userquery1, df_sportsvocbIndex,categories[0],df_sports,newslist_sports)\n",
    "print('-'*100)\n",
    "\n"
   ]
  },
  {
   "cell_type": "code",
   "execution_count": 322,
   "metadata": {},
   "outputs": [
    {
     "name": "stdout",
     "output_type": "stream",
     "text": [
      "                0    1        2    3    4    5         6    7         8    9  \\\n",
      "aatmanirbhar  0.0  0.0  0.34399  0.0  0.0  0.0  0.000000  0.0  0.000000  0.0   \n",
      "american      0.0  0.0  0.00000  0.0  0.0  0.0  0.000000  0.0  0.000000  0.0   \n",
      "announce      0.0  0.0  0.00000  0.0  0.0  0.0  0.000000  0.0  0.000000  0.0   \n",
      "answer        0.0  0.0  0.00000  0.0  0.0  0.0  0.000000  0.0  0.000000  0.0   \n",
      "anti          0.0  0.0  0.00000  0.0  0.0  0.0  0.375119  0.0  0.270464  0.0   \n",
      "\n",
      "               10        11   12        13   14   15   16   17   18        19  \n",
      "aatmanirbhar  0.0  0.000000  0.0  0.000000  0.0  0.0  0.0  0.0  0.0  0.000000  \n",
      "american      0.0  0.000000  0.0  0.475158  0.0  0.0  0.0  0.0  0.0  0.000000  \n",
      "announce      0.0  0.000000  0.0  0.000000  0.0  0.0  0.0  0.0  0.0  0.274636  \n",
      "answer        0.0  0.328893  0.0  0.000000  0.0  0.0  0.0  0.0  0.0  0.000000  \n",
      "anti          0.0  0.000000  0.0  0.000000  0.0  0.0  0.0  0.0  0.0  0.000000  \n",
      "(147, 20)\n",
      "-------------------TF-IDF for Science Cateogry -------------------\n"
     ]
    }
   ],
   "source": [
    "## Calling method for Science cataegory\n",
    "newslist_science = df_science[\"lemmatizeddescription\"]\n",
    "df_sciencevocbIndex = tfidfweighting(newslist_science)\n",
    "print('-------------------TF-IDF for Science Cateogry -------------------')"
   ]
  },
  {
   "cell_type": "code",
   "execution_count": 323,
   "metadata": {},
   "outputs": [
    {
     "name": "stdout",
     "output_type": "stream",
     "text": [
      "query: Vaccine\n",
      "Doc 2\n",
      "Similaritas: 0.1894850218858158\n",
      "vaccine mile american council science health\n",
      "Similaritas: 0.17773369312870332\n",
      "vaccine approval leap science faith say venkaiah naidu hindu\n",
      "Similaritas: 0.17442105375039296\n",
      "  see like gagandeep kang india vaccine approval wire science\n",
      "Similaritas: 0.17018055767979465\n",
      "uk vaccine approach anti science spectator co uk\n",
      "Similaritas: 0.16013124864219583\n",
      "covid dangerous vaccine scientist doctor concerned individual codeblue\n",
      "Similaritas: 0.15652941814161003\n",
      "uk roll astrazeneca vaccine hail lead fight coronavirus reuters\n",
      "Similaritas: 0.14815872805092115\n",
      "covaxin science pride help india build trust vaccine business standard\n",
      "Similaritas: 0.137354864364668\n",
      "gov sununu reaffirm cnn plan mandate covid vaccine wmur manchester\n",
      "Similaritas: 0.13115682996154107\n",
      "hey covid vaccine sceptic healthcare expert answer worry question business insider india\n",
      "Similaritas: 0.12314774099523004\n",
      "vice president india chairman rajya sabha m venkaiah naidu hail emergency authorization covid vaccine india leap science benefit humanity large\n",
      "Similaritas: 0.12314774099523003\n",
      "vice president india chairman rajya sabha m venkaiah naidu hail emergency authorization covid vaccine yesterday india leap science benefit humanity\n",
      "Similaritas: 0.12270139834537278\n",
      "vice president m venkaiah naidu monday hail approval give anti coronavirus vaccine restricted emergency use india country leap science benefit humanity\n",
      "Similaritas: 0.11862794223684182\n",
      "day drug controller general india dcgi give nod emergency use approval indigenous vaccine covid sunday vic\n",
      "Similaritas: 0.10488009734143622\n",
      "put weight bharat biotech s covaxin facebook post mr naidu write india s indigenous vaccine certain unique feature base virus approach\n",
      "----------------------------------------------------------------------------------------------------\n"
     ]
    }
   ],
   "source": [
    "df_science.head(10)\n",
    "\n",
    "get_similar_documents(userquery2, df_sciencevocbIndex,categories[1],df_science,newslist_science)\n",
    "print('-'*100)"
   ]
  },
  {
   "cell_type": "markdown",
   "metadata": {},
   "source": [
    " <a id=section5></a>\n",
    "# Task 4: Evaluation\n"
   ]
  },
  {
   "cell_type": "markdown",
   "metadata": {},
   "source": [
    "Evaluating Performance is very important for any system. We will evaluate our system based\n",
    "on two factors: retrieval accuracy and ranking accuracy.  \n",
    "\n",
    "Precision is the fraction of results that are relevant"
   ]
  },
  {
   "cell_type": "markdown",
   "metadata": {},
   "source": [
    "Precision measures \"of all the documents we retrieved as relevant how many are actually relevant?\".\n",
    "\n",
    "Precision = No. of relevant documents retrieved / No. of total documents retrieved"
   ]
  },
  {
   "cell_type": "markdown",
   "metadata": {},
   "source": [
    "Find precision@5, precision@10, precision@15, precision@20, precision@25,\n",
    "precision@30 with respect to the ranked aggregated collections formed based on \n",
    "ranking approach 1 and approach 2 (i.e. ResultantRanks_A1.txt and\n",
    "ResultantRanks_A2.txt respectively)."
   ]
  },
  {
   "cell_type": "code",
   "execution_count": 324,
   "metadata": {},
   "outputs": [],
   "source": [
    "# To find thre precision for top docuument collection based on number like top 5, top 10 ect..\n",
    "# number is integer variable \n",
    "#\n",
    "\n",
    "def Findprecision(number,targetfile,category, encodingtype):\n",
    "    # From Ground Truth ranking \"RankedDocuments.txt\"\n",
    "    \n",
    "    print('################################  Precision@'+str(number) + '   #########################################')\n",
    "    groundtuth_df = pd.read_csv('Data/'+category+'/Rank/RankedDocuments.txt', sep=\"\\t\",encoding=encodingtype)\n",
    "\n",
    "    groundtuth_df = groundtuth_df.sort_values(by=['Score'],ascending=False)\n",
    "    toprecords =groundtuth_df['DocumentId'].head(number)\n",
    "    #print(toprecords)\n",
    "    \n",
    "    print('---------------------- Resultant Doucments from Ground Truth file: RankedDocuments.txt ----------------')\n",
    "    print(toprecords.to_string(index=False).strip().split('\\n'))\n",
    "    \n",
    "    toprecords.to_string(index=False).strip().split('\\n')\n",
    "    totaldocsreterieved =number\n",
    "    \n",
    "    # From Approach Doc ranking \"ResultantRanks_A2.txt\"\n",
    "    rank_df = pd.read_csv('Data/'+category+'/Rank/'+targetfile, sep=\",\",encoding=encodingtype)\n",
    "    \n",
    "    if(targetfile=='ResultantRanks_A1.txt'):    \n",
    "        rank_df = rank_df.sort_values(by=['Rank'],ascending=False)\n",
    "    \n",
    "    if(targetfile=='ResultantRanks_A2.txt'):    \n",
    "        rank_df = rank_df.sort_values(by=['Score'],ascending=False)    \n",
    "   # A2_rank_df['DocumentId'].head(number)\n",
    "    rank_toprecords =rank_df['DocumentId'].head(number)\n",
    "\n",
    "    print('---------------------- Resultant Doucments from file: '+ targetfile +'-------------------')\n",
    "    print(rank_toprecords.to_string(index=False).strip().split('\\n'))\n",
    "    rank_toprecords.to_string(index=False).strip().split('\\n')\n",
    "    \n",
    "    #set(toprecords).intersection(rank_toprecords)\n",
    "    relevantdocsreterived = len(set(toprecords) & set(rank_toprecords))\n",
    "    #print(relevantdocsreterived)\n",
    "    \n",
    "    #print(number)\n",
    "    precision = relevantdocsreterived/number\n",
    "    return precision\n",
    "    "
   ]
  },
  {
   "cell_type": "markdown",
   "metadata": {},
   "source": [
    "<a id=section501></a>\n",
    "### For Sports Category - Precision"
   ]
  },
  {
   "cell_type": "markdown",
   "metadata": {},
   "source": [
    "### Precision Calculations by approach 1 - Query \"Cricket\""
   ]
  },
  {
   "cell_type": "code",
   "execution_count": 325,
   "metadata": {
    "scrolled": true
   },
   "outputs": [
    {
     "name": "stdout",
     "output_type": "stream",
     "text": [
      "################################  Precision@5   #########################################\n",
      "---------------------- Resultant Doucments from Ground Truth file: RankedDocuments.txt ----------------\n",
      "['Doc 5', ' Doc 21', ' Doc 20', ' Doc 26', '  Doc 7']\n",
      "---------------------- Resultant Doucments from file: ResultantRanks_A1.txt-------------------\n",
      "['Doc 36', ' Doc 35', ' Doc 34', ' Doc 33', ' Doc 32']\n",
      "------------------Precision@5---------------------- 0.0\n",
      "################################  Precision@10   #########################################\n",
      "---------------------- Resultant Doucments from Ground Truth file: RankedDocuments.txt ----------------\n",
      "['Doc 5', ' Doc 21', ' Doc 20', ' Doc 26', '  Doc 7', ' Doc 28', ' Doc 22', ' Doc 23', ' Doc 13', ' Doc 36']\n",
      "---------------------- Resultant Doucments from file: ResultantRanks_A1.txt-------------------\n",
      "['Doc 36', ' Doc 35', ' Doc 34', ' Doc 33', ' Doc 32', ' Doc 31', ' Doc 30', ' Doc 29', ' Doc 28', ' Doc 27']\n",
      "------------------Precision@10---------------------- 0.2\n",
      "################################  Precision@15   #########################################\n",
      "---------------------- Resultant Doucments from Ground Truth file: RankedDocuments.txt ----------------\n",
      "['Doc 5', ' Doc 21', ' Doc 20', ' Doc 26', '  Doc 7', ' Doc 28', ' Doc 22', ' Doc 23', ' Doc 13', ' Doc 36', ' Doc 31', ' Doc 32', '  Doc 6', ' Doc 30', ' Doc 29']\n",
      "---------------------- Resultant Doucments from file: ResultantRanks_A1.txt-------------------\n",
      "['Doc 36', ' Doc 35', ' Doc 34', ' Doc 33', ' Doc 32', ' Doc 31', ' Doc 30', ' Doc 29', ' Doc 28', ' Doc 27', ' Doc 26', ' Doc 25', ' Doc 24', ' Doc 23', ' Doc 22']\n",
      "------------------Precision@15---------------------- 0.6\n",
      "################################  Precision@20   #########################################\n",
      "---------------------- Resultant Doucments from Ground Truth file: RankedDocuments.txt ----------------\n",
      "['Doc 5', ' Doc 21', ' Doc 20', ' Doc 26', '  Doc 7', ' Doc 28', ' Doc 22', ' Doc 23', ' Doc 13', ' Doc 36', ' Doc 31', ' Doc 32', '  Doc 6', ' Doc 30', ' Doc 29', ' Doc 14', ' Doc 34', ' Doc 35', ' Doc 18', ' Doc 19']\n",
      "---------------------- Resultant Doucments from file: ResultantRanks_A1.txt-------------------\n",
      "['Doc 36', ' Doc 35', ' Doc 34', ' Doc 33', ' Doc 32', ' Doc 31', ' Doc 30', ' Doc 29', ' Doc 28', ' Doc 27', ' Doc 26', ' Doc 25', ' Doc 24', ' Doc 23', ' Doc 22', ' Doc 21', ' Doc 20', ' Doc 19', ' Doc 18', ' Doc 17']\n",
      "------------------Precision@20---------------------- 0.75\n",
      "################################  Precision@25   #########################################\n",
      "---------------------- Resultant Doucments from Ground Truth file: RankedDocuments.txt ----------------\n",
      "['Doc 5', ' Doc 21', ' Doc 20', ' Doc 26', '  Doc 7', ' Doc 28', ' Doc 22', ' Doc 23', ' Doc 13', ' Doc 36', ' Doc 31', ' Doc 32', '  Doc 6', ' Doc 30', ' Doc 29', ' Doc 14', ' Doc 34', ' Doc 35', ' Doc 18', ' Doc 19', ' Doc 12', '  Doc 8', ' Doc 33', ' Doc 17', ' Doc 24']\n",
      "---------------------- Resultant Doucments from file: ResultantRanks_A1.txt-------------------\n",
      "['Doc 36', ' Doc 35', ' Doc 34', ' Doc 33', ' Doc 32', ' Doc 31', ' Doc 30', ' Doc 29', ' Doc 28', ' Doc 27', ' Doc 26', ' Doc 25', ' Doc 24', ' Doc 23', ' Doc 22', ' Doc 21', ' Doc 20', ' Doc 19', ' Doc 18', ' Doc 17', ' Doc 16', ' Doc 15', ' Doc 14', ' Doc 13', ' Doc 12']\n",
      "------------------Precision@25---------------------- 0.84\n",
      "################################  Precision@30   #########################################\n",
      "---------------------- Resultant Doucments from Ground Truth file: RankedDocuments.txt ----------------\n",
      "['Doc 5', ' Doc 21', ' Doc 20', ' Doc 26', '  Doc 7', ' Doc 28', ' Doc 22', ' Doc 23', ' Doc 13', ' Doc 36', ' Doc 31', ' Doc 32', '  Doc 6', ' Doc 30', ' Doc 29', ' Doc 14', ' Doc 34', ' Doc 35', ' Doc 18', ' Doc 19', ' Doc 12', '  Doc 8', ' Doc 33', ' Doc 17', ' Doc 24', ' Doc 25', ' Doc 27', ' Doc 11', '  Doc 9', '  Doc 4']\n",
      "---------------------- Resultant Doucments from file: ResultantRanks_A1.txt-------------------\n",
      "['Doc 36', ' Doc 35', ' Doc 34', ' Doc 33', ' Doc 32', ' Doc 31', ' Doc 30', ' Doc 29', ' Doc 28', ' Doc 27', ' Doc 26', ' Doc 25', ' Doc 24', ' Doc 23', ' Doc 22', ' Doc 21', ' Doc 20', ' Doc 19', ' Doc 18', ' Doc 17', ' Doc 16', ' Doc 15', ' Doc 14', ' Doc 13', ' Doc 12', ' Doc 11', ' Doc 10', '  Doc 9', '  Doc 8', '  Doc 7']\n",
      "------------------Precision@30---------------------- 0.9\n"
     ]
    }
   ],
   "source": [
    "sports_precisionat5=Findprecision(5,'ResultantRanks_A1.txt',categories[0],'cp1252')\n",
    "print(\"------------------Precision@5----------------------\", sports_precisionat5)\n",
    "\n",
    "sports_precisionat10=Findprecision(10,'ResultantRanks_A1.txt',categories[0],'cp1252')\n",
    "print(\"------------------Precision@10----------------------\", sports_precisionat10)\n",
    "\n",
    "sports_precisionat15=Findprecision(15,'ResultantRanks_A1.txt',categories[0],'cp1252')\n",
    "print(\"------------------Precision@15----------------------\", sports_precisionat15)\n",
    "\n",
    "sports_precisionat20=Findprecision(20,'ResultantRanks_A1.txt',categories[0],'cp1252')\n",
    "print(\"------------------Precision@20----------------------\", sports_precisionat20)\n",
    "\n",
    "sports_precisionat25=Findprecision(25,'ResultantRanks_A1.txt',categories[0],'cp1252')\n",
    "print(\"------------------Precision@25----------------------\", sports_precisionat25)\n",
    "\n",
    "sports_precisionat30=Findprecision(30,'ResultantRanks_A1.txt',categories[0],'cp1252')\n",
    "print(\"------------------Precision@30----------------------\", sports_precisionat30)\n",
    "\n",
    "sports_precisionapproach1 = np.array([sports_precisionat5,sports_precisionat10,sports_precisionat15,\n",
    "                                      sports_precisionat20,sports_precisionat25,sports_precisionat30])"
   ]
  },
  {
   "cell_type": "markdown",
   "metadata": {},
   "source": [
    "\n",
    "### Precision Caluculation by approach 2 -  Query \"Cricket\""
   ]
  },
  {
   "cell_type": "code",
   "execution_count": 326,
   "metadata": {},
   "outputs": [
    {
     "name": "stdout",
     "output_type": "stream",
     "text": [
      "################################  Precision@5   #########################################\n",
      "---------------------- Resultant Doucments from Ground Truth file: RankedDocuments.txt ----------------\n",
      "['Doc 5', ' Doc 21', ' Doc 20', ' Doc 26', '  Doc 7']\n",
      "---------------------- Resultant Doucments from file: ResultantRanks_A2.txt-------------------\n",
      "['Doc 35', ' Doc 16', '  Doc 8', '  Doc 4', ' Doc 29']\n",
      "------------------Precision@5---------------------- 0.0\n",
      "################################  Precision@10   #########################################\n",
      "---------------------- Resultant Doucments from Ground Truth file: RankedDocuments.txt ----------------\n",
      "['Doc 5', ' Doc 21', ' Doc 20', ' Doc 26', '  Doc 7', ' Doc 28', ' Doc 22', ' Doc 23', ' Doc 13', ' Doc 36']\n",
      "---------------------- Resultant Doucments from file: ResultantRanks_A2.txt-------------------\n",
      "['Doc 35', ' Doc 16', '  Doc 8', '  Doc 4', ' Doc 29', ' Doc 26', ' Doc 25', '  Doc 7', '  Doc 5', ' Doc 31']\n",
      "------------------Precision@10---------------------- 0.3\n",
      "################################  Precision@15   #########################################\n",
      "---------------------- Resultant Doucments from Ground Truth file: RankedDocuments.txt ----------------\n",
      "['Doc 5', ' Doc 21', ' Doc 20', ' Doc 26', '  Doc 7', ' Doc 28', ' Doc 22', ' Doc 23', ' Doc 13', ' Doc 36', ' Doc 31', ' Doc 32', '  Doc 6', ' Doc 30', ' Doc 29']\n",
      "---------------------- Resultant Doucments from file: ResultantRanks_A2.txt-------------------\n",
      "['Doc 35', ' Doc 16', '  Doc 8', '  Doc 4', ' Doc 29', ' Doc 26', ' Doc 25', '  Doc 7', '  Doc 5', ' Doc 31', ' Doc 34', ' Doc 23', ' Doc 20', ' Doc 21', ' Doc 22']\n",
      "------------------Precision@15---------------------- 0.6\n",
      "################################  Precision@20   #########################################\n",
      "---------------------- Resultant Doucments from Ground Truth file: RankedDocuments.txt ----------------\n",
      "['Doc 5', ' Doc 21', ' Doc 20', ' Doc 26', '  Doc 7', ' Doc 28', ' Doc 22', ' Doc 23', ' Doc 13', ' Doc 36', ' Doc 31', ' Doc 32', '  Doc 6', ' Doc 30', ' Doc 29', ' Doc 14', ' Doc 34', ' Doc 35', ' Doc 18', ' Doc 19']\n",
      "---------------------- Resultant Doucments from file: ResultantRanks_A2.txt-------------------\n",
      "['Doc 35', ' Doc 16', '  Doc 8', '  Doc 4', ' Doc 29', ' Doc 26', ' Doc 25', '  Doc 7', '  Doc 5', ' Doc 31', ' Doc 34', ' Doc 23', ' Doc 20', ' Doc 21', ' Doc 22', ' Doc 32', ' Doc 24', ' Doc 27', ' Doc 28', ' Doc 30']\n",
      "------------------Precision@20---------------------- 0.7\n",
      "################################  Precision@25   #########################################\n",
      "---------------------- Resultant Doucments from Ground Truth file: RankedDocuments.txt ----------------\n",
      "['Doc 5', ' Doc 21', ' Doc 20', ' Doc 26', '  Doc 7', ' Doc 28', ' Doc 22', ' Doc 23', ' Doc 13', ' Doc 36', ' Doc 31', ' Doc 32', '  Doc 6', ' Doc 30', ' Doc 29', ' Doc 14', ' Doc 34', ' Doc 35', ' Doc 18', ' Doc 19', ' Doc 12', '  Doc 8', ' Doc 33', ' Doc 17', ' Doc 24']\n",
      "---------------------- Resultant Doucments from file: ResultantRanks_A2.txt-------------------\n",
      "['Doc 35', ' Doc 16', '  Doc 8', '  Doc 4', ' Doc 29', ' Doc 26', ' Doc 25', '  Doc 7', '  Doc 5', ' Doc 31', ' Doc 34', ' Doc 23', ' Doc 20', ' Doc 21', ' Doc 22', ' Doc 32', ' Doc 24', ' Doc 27', ' Doc 28', ' Doc 30', ' Doc 18', ' Doc 19', ' Doc 11', ' Doc 17', ' Doc 15']\n",
      "------------------Precision@25---------------------- 0.76\n",
      "################################  Precision@30   #########################################\n",
      "---------------------- Resultant Doucments from Ground Truth file: RankedDocuments.txt ----------------\n",
      "['Doc 5', ' Doc 21', ' Doc 20', ' Doc 26', '  Doc 7', ' Doc 28', ' Doc 22', ' Doc 23', ' Doc 13', ' Doc 36', ' Doc 31', ' Doc 32', '  Doc 6', ' Doc 30', ' Doc 29', ' Doc 14', ' Doc 34', ' Doc 35', ' Doc 18', ' Doc 19', ' Doc 12', '  Doc 8', ' Doc 33', ' Doc 17', ' Doc 24', ' Doc 25', ' Doc 27', ' Doc 11', '  Doc 9', '  Doc 4']\n",
      "---------------------- Resultant Doucments from file: ResultantRanks_A2.txt-------------------\n",
      "['Doc 35', ' Doc 16', '  Doc 8', '  Doc 4', ' Doc 29', ' Doc 26', ' Doc 25', '  Doc 7', '  Doc 5', ' Doc 31', ' Doc 34', ' Doc 23', ' Doc 20', ' Doc 21', ' Doc 22', ' Doc 32', ' Doc 24', ' Doc 27', ' Doc 28', ' Doc 30', ' Doc 18', ' Doc 19', ' Doc 11', ' Doc 17', ' Doc 15', ' Doc 14', ' Doc 13', ' Doc 12', ' Doc 10', '  Doc 9']\n",
      "------------------Precision@30---------------------- 0.9\n"
     ]
    }
   ],
   "source": [
    "sports_precisionat5=Findprecision(5,'ResultantRanks_A2.txt',categories[0],'cp1252')\n",
    "print(\"------------------Precision@5----------------------\", sports_precisionat5)\n",
    "\n",
    "sports_precisionat10=Findprecision(10,'ResultantRanks_A2.txt',categories[0],'cp1252')\n",
    "print(\"------------------Precision@10----------------------\", sports_precisionat10)\n",
    "\n",
    "sports_precisionat15=Findprecision(15,'ResultantRanks_A2.txt',categories[0],'cp1252')\n",
    "print(\"------------------Precision@15----------------------\", sports_precisionat15)\n",
    "\n",
    "sports_precisionat20=Findprecision(20,'ResultantRanks_A2.txt',categories[0],'cp1252')\n",
    "print(\"------------------Precision@20----------------------\", sports_precisionat20)\n",
    "\n",
    "sports_precisionat25=Findprecision(25,'ResultantRanks_A2.txt',categories[0],'cp1252')\n",
    "print(\"------------------Precision@25----------------------\", sports_precisionat25)\n",
    "\n",
    "sports_precisionat30=Findprecision(30,'ResultantRanks_A2.txt',categories[0],'cp1252')\n",
    "print(\"------------------Precision@30----------------------\", sports_precisionat30)\n",
    "\n",
    "sports_precisionapproach2 = np.array([sports_precisionat5,sports_precisionat10,sports_precisionat15,\n",
    "                                      sports_precisionat20,sports_precisionat25,sports_precisionat30])"
   ]
  },
  {
   "cell_type": "markdown",
   "metadata": {},
   "source": [
    "<a id=section502></a>\n",
    "### Plot the obtained results"
   ]
  },
  {
   "cell_type": "code",
   "execution_count": 327,
   "metadata": {},
   "outputs": [],
   "source": [
    "def Precisionplotting(data,category):\n",
    "    names = list(data.keys())\n",
    "    values = list(data.values())\n",
    "\n",
    "    fig, axs = plt.subplots()\n",
    "    #axs[0].bar(names, values)\n",
    "    #axs[1].scatter(names, values)\n",
    "    axs.plot(names, values)\n",
    "    axs.set_title(category+' Precision Plot' , fontsize=14)"
   ]
  },
  {
   "cell_type": "code",
   "execution_count": 328,
   "metadata": {},
   "outputs": [
    {
     "data": {
      "image/png": "[encoded data removed]",
      "text/plain": [
       "<Figure size 432x288 with 1 Axes>"
      ]
     },
     "metadata": {
      "needs_background": "light"
     },
     "output_type": "display_data"
    }
   ],
   "source": [
    "sports_data_approach1 = {'P@5': sports_precisionapproach1[0], 'P@10': sports_precisionapproach1[1], \n",
    "                         'P@15': sports_precisionapproach1[2], 'P@20': sports_precisionapproach1[3],\n",
    "                         'P@25': sports_precisionapproach1[4],'P@30': sports_precisionapproach1[5]}\n",
    "\n",
    "Precisionplotting(sports_data_approach1,categories[0]+' category approach1')"
   ]
  },
  {
   "cell_type": "code",
   "execution_count": 329,
   "metadata": {},
   "outputs": [
    {
     "data": {
      "image/png": "[encoded data removed]",
      "text/plain": [
       "<Figure size 432x288 with 1 Axes>"
      ]
     },
     "metadata": {
      "needs_background": "light"
     },
     "output_type": "display_data"
    }
   ],
   "source": [
    "sports_data_approach2 = {'P@5': sports_precisionapproach2[0], 'P@10': sports_precisionapproach2[1], \n",
    "                         'P@15': sports_precisionapproach2[2], 'P@20': sports_precisionapproach2[3],\n",
    "                         'P@25': sports_precisionapproach2[4],'P@30': sports_precisionapproach2[5]}\n",
    "\n",
    "Precisionplotting(sports_data_approach2 ,categories[0]+' category approach2')"
   ]
  },
  {
   "cell_type": "markdown",
   "metadata": {},
   "source": [
    "<a id=section503></a>\n",
    "### For Science Category"
   ]
  },
  {
   "cell_type": "markdown",
   "metadata": {},
   "source": [
    "\n",
    "### Precision Calculations by approach 1 - Query - Vaccine"
   ]
  },
  {
   "cell_type": "code",
   "execution_count": 330,
   "metadata": {},
   "outputs": [
    {
     "name": "stdout",
     "output_type": "stream",
     "text": [
      "################################  Precision@5   #########################################\n",
      "---------------------- Resultant Doucments from Ground Truth file: RankedDocuments.txt ----------------\n",
      "['Doc 2', '  Doc 5', ' Doc 18', ' Doc 16', ' Doc 19']\n",
      "---------------------- Resultant Doucments from file: ResultantRanks_A1.txt-------------------\n",
      "['Doc 20', ' Doc 19', ' Doc 18', ' Doc 17', ' Doc 16']\n",
      "------------------Precision@5---------------------- 0.6\n",
      "################################  Precision@10   #########################################\n",
      "---------------------- Resultant Doucments from Ground Truth file: RankedDocuments.txt ----------------\n",
      "['Doc 2', '  Doc 5', ' Doc 18', ' Doc 16', ' Doc 19', '  Doc 3', '  Doc 1', '  Doc 7', ' Doc 10', ' Doc 12']\n",
      "---------------------- Resultant Doucments from file: ResultantRanks_A1.txt-------------------\n",
      "['Doc 20', ' Doc 19', ' Doc 18', ' Doc 17', ' Doc 16', ' Doc 15', ' Doc 14', ' Doc 13', ' Doc 12', ' Doc 11']\n",
      "------------------Precision@10---------------------- 0.4\n",
      "################################  Precision@15   #########################################\n",
      "---------------------- Resultant Doucments from Ground Truth file: RankedDocuments.txt ----------------\n",
      "['Doc 2', '  Doc 5', ' Doc 18', ' Doc 16', ' Doc 19', '  Doc 3', '  Doc 1', '  Doc 7', ' Doc 10', ' Doc 12', ' Doc 11', ' Doc 13', '  Doc 8', ' Doc 17', '  Doc 4']\n",
      "---------------------- Resultant Doucments from file: ResultantRanks_A1.txt-------------------\n",
      "['Doc 20', ' Doc 19', ' Doc 18', ' Doc 17', ' Doc 16', ' Doc 15', ' Doc 14', ' Doc 13', ' Doc 12', ' Doc 11', ' Doc 10', '  Doc 9', '  Doc 8', '  Doc 7', '  Doc 6']\n",
      "------------------Precision@15---------------------- 0.6666666666666666\n",
      "################################  Precision@20   #########################################\n",
      "---------------------- Resultant Doucments from Ground Truth file: RankedDocuments.txt ----------------\n",
      "['Doc 2', '  Doc 5', ' Doc 18', ' Doc 16', ' Doc 19', '  Doc 3', '  Doc 1', '  Doc 7', ' Doc 10', ' Doc 12', ' Doc 11', ' Doc 13', '  Doc 8', ' Doc 17', '  Doc 4', '  Doc 9', ' Doc 14', '  Doc 6', ' Doc 15', ' Doc 20']\n",
      "---------------------- Resultant Doucments from file: ResultantRanks_A1.txt-------------------\n",
      "['Doc 20', ' Doc 19', ' Doc 18', ' Doc 17', ' Doc 16', ' Doc 15', ' Doc 14', ' Doc 13', ' Doc 12', ' Doc 11', ' Doc 10', '  Doc 9', '  Doc 8', '  Doc 7', '  Doc 6', '  Doc 5', '  Doc 4', '  Doc 3', '  Doc 2', '  Doc 1']\n",
      "------------------Precision@20---------------------- 1.0\n",
      "################################  Precision@25   #########################################\n",
      "---------------------- Resultant Doucments from Ground Truth file: RankedDocuments.txt ----------------\n",
      "['Doc 2', '  Doc 5', ' Doc 18', ' Doc 16', ' Doc 19', '  Doc 3', '  Doc 1', '  Doc 7', ' Doc 10', ' Doc 12', ' Doc 11', ' Doc 13', '  Doc 8', ' Doc 17', '  Doc 4', '  Doc 9', ' Doc 14', '  Doc 6', ' Doc 15', ' Doc 20']\n",
      "---------------------- Resultant Doucments from file: ResultantRanks_A1.txt-------------------\n",
      "['Doc 20', ' Doc 19', ' Doc 18', ' Doc 17', ' Doc 16', ' Doc 15', ' Doc 14', ' Doc 13', ' Doc 12', ' Doc 11', ' Doc 10', '  Doc 9', '  Doc 8', '  Doc 7', '  Doc 6', '  Doc 5', '  Doc 4', '  Doc 3', '  Doc 2', '  Doc 1']\n",
      "------------------Precision@25---------------------- 0.8\n",
      "################################  Precision@30   #########################################\n",
      "---------------------- Resultant Doucments from Ground Truth file: RankedDocuments.txt ----------------\n",
      "['Doc 2', '  Doc 5', ' Doc 18', ' Doc 16', ' Doc 19', '  Doc 3', '  Doc 1', '  Doc 7', ' Doc 10', ' Doc 12', ' Doc 11', ' Doc 13', '  Doc 8', ' Doc 17', '  Doc 4', '  Doc 9', ' Doc 14', '  Doc 6', ' Doc 15', ' Doc 20']\n",
      "---------------------- Resultant Doucments from file: ResultantRanks_A1.txt-------------------\n",
      "['Doc 20', ' Doc 19', ' Doc 18', ' Doc 17', ' Doc 16', ' Doc 15', ' Doc 14', ' Doc 13', ' Doc 12', ' Doc 11', ' Doc 10', '  Doc 9', '  Doc 8', '  Doc 7', '  Doc 6', '  Doc 5', '  Doc 4', '  Doc 3', '  Doc 2', '  Doc 1']\n",
      "------------------Precision@30---------------------- 0.6666666666666666\n"
     ]
    }
   ],
   "source": [
    "science_precisionat5=Findprecision(5,'ResultantRanks_A1.txt',categories[1],'utf-8')\n",
    "print(\"------------------Precision@5----------------------\", science_precisionat5)\n",
    "\n",
    "science_precisionat10=Findprecision(10,'ResultantRanks_A1.txt',categories[1],'utf-8')\n",
    "print(\"------------------Precision@10----------------------\", science_precisionat10)\n",
    "\n",
    "science_precisionat15=Findprecision(15,'ResultantRanks_A1.txt',categories[1],'utf-8')\n",
    "print(\"------------------Precision@15----------------------\", science_precisionat15)\n",
    "\n",
    "science_precisionat20=Findprecision(20,'ResultantRanks_A1.txt',categories[1],'utf-8')\n",
    "print(\"------------------Precision@20----------------------\", science_precisionat20)\n",
    "\n",
    "science_precisionat25=Findprecision(25,'ResultantRanks_A1.txt',categories[1],'utf-8')\n",
    "print(\"------------------Precision@25----------------------\", science_precisionat25)\n",
    "\n",
    "science_precisionat30=Findprecision(30,'ResultantRanks_A1.txt',categories[1],'utf-8')\n",
    "print(\"------------------Precision@30----------------------\", science_precisionat30)\n",
    "\n",
    "\n",
    "science_precisionapproach1 = np.array([science_precisionat5,science_precisionat10,science_precisionat15,\n",
    "                               science_precisionat20,science_precisionat25,science_precisionat30])"
   ]
  },
  {
   "cell_type": "markdown",
   "metadata": {},
   "source": [
    "\n",
    "### Precision Caluculation by approach 2 - Query \"Vaccine\""
   ]
  },
  {
   "cell_type": "code",
   "execution_count": 334,
   "metadata": {},
   "outputs": [
    {
     "name": "stdout",
     "output_type": "stream",
     "text": [
      "################################  Precision@5   #########################################\n",
      "---------------------- Resultant Doucments from Ground Truth file: RankedDocuments.txt ----------------\n",
      "['Doc 2', '  Doc 5', ' Doc 18', ' Doc 16', ' Doc 19']\n",
      "---------------------- Resultant Doucments from file: ResultantRanks_A2.txt-------------------\n",
      "['Doc 14', ' Doc 19', ' Doc 13', '  Doc 7', '  Doc 4']\n",
      "------------------Precision@5---------------------- 0.2\n",
      "################################  Precision@10   #########################################\n",
      "---------------------- Resultant Doucments from Ground Truth file: RankedDocuments.txt ----------------\n",
      "['Doc 2', '  Doc 5', ' Doc 18', ' Doc 16', ' Doc 19', '  Doc 3', '  Doc 1', '  Doc 7', ' Doc 10', ' Doc 12']\n",
      "---------------------- Resultant Doucments from file: ResultantRanks_A2.txt-------------------\n",
      "['Doc 14', ' Doc 19', ' Doc 13', '  Doc 7', '  Doc 4', '  Doc 1', ' Doc 11', ' Doc 16', ' Doc 12', '  Doc 5']\n",
      "------------------Precision@10---------------------- 0.6\n",
      "################################  Precision@15   #########################################\n",
      "---------------------- Resultant Doucments from Ground Truth file: RankedDocuments.txt ----------------\n",
      "['Doc 2', '  Doc 5', ' Doc 18', ' Doc 16', ' Doc 19', '  Doc 3', '  Doc 1', '  Doc 7', ' Doc 10', ' Doc 12', ' Doc 11', ' Doc 13', '  Doc 8', ' Doc 17', '  Doc 4']\n",
      "---------------------- Resultant Doucments from file: ResultantRanks_A2.txt-------------------\n",
      "['Doc 14', ' Doc 19', ' Doc 13', '  Doc 7', '  Doc 4', '  Doc 1', ' Doc 11', ' Doc 16', ' Doc 12', '  Doc 5', '  Doc 8', '  Doc 9', '  Doc 6', ' Doc 10', '  Doc 2']\n",
      "------------------Precision@15---------------------- 0.8\n",
      "################################  Precision@20   #########################################\n",
      "---------------------- Resultant Doucments from Ground Truth file: RankedDocuments.txt ----------------\n",
      "['Doc 2', '  Doc 5', ' Doc 18', ' Doc 16', ' Doc 19', '  Doc 3', '  Doc 1', '  Doc 7', ' Doc 10', ' Doc 12', ' Doc 11', ' Doc 13', '  Doc 8', ' Doc 17', '  Doc 4', '  Doc 9', ' Doc 14', '  Doc 6', ' Doc 15', ' Doc 20']\n",
      "---------------------- Resultant Doucments from file: ResultantRanks_A2.txt-------------------\n",
      "['Doc 14', ' Doc 19', ' Doc 13', '  Doc 7', '  Doc 4', '  Doc 1', ' Doc 11', ' Doc 16', ' Doc 12', '  Doc 5', '  Doc 8', '  Doc 9', '  Doc 6', ' Doc 10', '  Doc 2', '  Doc 3', ' Doc 15', ' Doc 17', ' Doc 18']\n",
      "------------------Precision@20---------------------- 0.95\n",
      "################################  Precision@25   #########################################\n",
      "---------------------- Resultant Doucments from Ground Truth file: RankedDocuments.txt ----------------\n",
      "['Doc 2', '  Doc 5', ' Doc 18', ' Doc 16', ' Doc 19', '  Doc 3', '  Doc 1', '  Doc 7', ' Doc 10', ' Doc 12', ' Doc 11', ' Doc 13', '  Doc 8', ' Doc 17', '  Doc 4', '  Doc 9', ' Doc 14', '  Doc 6', ' Doc 15', ' Doc 20']\n",
      "---------------------- Resultant Doucments from file: ResultantRanks_A2.txt-------------------\n",
      "['Doc 14', ' Doc 19', ' Doc 13', '  Doc 7', '  Doc 4', '  Doc 1', ' Doc 11', ' Doc 16', ' Doc 12', '  Doc 5', '  Doc 8', '  Doc 9', '  Doc 6', ' Doc 10', '  Doc 2', '  Doc 3', ' Doc 15', ' Doc 17', ' Doc 18']\n",
      "------------------Precision@25---------------------- 0.76\n",
      "################################  Precision@30   #########################################\n",
      "---------------------- Resultant Doucments from Ground Truth file: RankedDocuments.txt ----------------\n",
      "['Doc 2', '  Doc 5', ' Doc 18', ' Doc 16', ' Doc 19', '  Doc 3', '  Doc 1', '  Doc 7', ' Doc 10', ' Doc 12', ' Doc 11', ' Doc 13', '  Doc 8', ' Doc 17', '  Doc 4', '  Doc 9', ' Doc 14', '  Doc 6', ' Doc 15', ' Doc 20']\n",
      "---------------------- Resultant Doucments from file: ResultantRanks_A2.txt-------------------\n",
      "['Doc 14', ' Doc 19', ' Doc 13', '  Doc 7', '  Doc 4', '  Doc 1', ' Doc 11', ' Doc 16', ' Doc 12', '  Doc 5', '  Doc 8', '  Doc 9', '  Doc 6', ' Doc 10', '  Doc 2', '  Doc 3', ' Doc 15', ' Doc 17', ' Doc 18']\n",
      "------------------Precision@30---------------------- 0.6333333333333333\n"
     ]
    }
   ],
   "source": [
    "science_precisionat5=Findprecision(5,'ResultantRanks_A2.txt',categories[1],'utf-8')\n",
    "print(\"------------------Precision@5----------------------\", science_precisionat5)\n",
    "\n",
    "science_precisionat10=Findprecision(10,'ResultantRanks_A2.txt',categories[1],'utf-8')\n",
    "print(\"------------------Precision@10----------------------\", science_precisionat10)\n",
    "\n",
    "science_precisionat15=Findprecision(15,'ResultantRanks_A2.txt',categories[1],'utf-8')\n",
    "print(\"------------------Precision@15----------------------\", science_precisionat15)\n",
    "\n",
    "science_precisionat20=Findprecision(20,'ResultantRanks_A2.txt',categories[1],'utf-8')\n",
    "print(\"------------------Precision@20----------------------\", science_precisionat20)\n",
    "\n",
    "science_precisionat25=Findprecision(25,'ResultantRanks_A2.txt',categories[1],'utf-8')\n",
    "print(\"------------------Precision@25----------------------\", science_precisionat25)\n",
    "\n",
    "science_precisionat30=Findprecision(30,'ResultantRanks_A2.txt',categories[1],'utf-8')\n",
    "print(\"------------------Precision@30----------------------\", science_precisionat30)\n",
    "\n",
    "science_precisionapproach2 = np.array([science_precisionat5,science_precisionat10,science_precisionat15,\n",
    "                                       science_precisionat20,science_precisionat25,science_precisionat30])"
   ]
  },
  {
   "cell_type": "markdown",
   "metadata": {},
   "source": [
    "<a id=section504></a>\n",
    "### Plot the obtained results"
   ]
  },
  {
   "cell_type": "code",
   "execution_count": 332,
   "metadata": {},
   "outputs": [
    {
     "data": {
      "image/png": "[encoded data removed]",
      "text/plain": [
       "<Figure size 432x288 with 1 Axes>"
      ]
     },
     "metadata": {
      "needs_background": "light"
     },
     "output_type": "display_data"
    }
   ],
   "source": [
    "science_data_approach1 = {'P@5': science_precisionapproach1[0], 'P@10': science_precisionapproach1[1],\n",
    "                          'P@15': science_precisionapproach1[2],'P@20': science_precisionapproach1[3],\n",
    "                          'P@25': science_precisionapproach1[4],'P@30': science_precisionapproach1[5]}\n",
    "\n",
    "Precisionplotting(science_data_approach1, categories[1]+' category approach1')"
   ]
  },
  {
   "cell_type": "code",
   "execution_count": 333,
   "metadata": {},
   "outputs": [
    {
     "data": {
      "image/png": "[encoded data removed]",
      "text/plain": [
       "<Figure size 432x288 with 1 Axes>"
      ]
     },
     "metadata": {
      "needs_background": "light"
     },
     "output_type": "display_data"
    }
   ],
   "source": [
    "science_data_approach2 = {'P@5': science_precisionapproach2[0], 'P@10': science_precisionapproach2[1], \n",
    "                          'P@15': science_precisionapproach2[2],'P@20': science_precisionapproach2[3],\n",
    "                          'P@25': science_precisionapproach2[4],'P@30': science_precisionapproach2[5]}\n",
    "\n",
    "Precisionplotting(science_data_approach2,categories[1]+' category approach2')"
   ]
  },
  {
   "cell_type": "markdown",
   "metadata": {},
   "source": [
    " <a id=section6></a>\n",
    "# Assumptions and Conclusions \n"
   ]
  },
  {
   "cell_type": "markdown",
   "metadata": {},
   "source": [
    "-- All Extracted documents are stored under /Data/Sports/ for sports category  with .csv file extension. </br>\n",
    "\n",
    "-- All Extracted documents are stored under /Data/Science/ for sports category  with .csv file extension. </br>\n",
    "\n",
    "-- Aggregated documents are stored under /Data/Sports/ for sports category  with .csv file extension. </br>\n",
    "\n",
    "-- All Ranked documents are stored under /Data/Sports/Rank for sports category as ResultantRanks_A1.txt and ResultantRanks_A2.txt  </br>\n",
    "\n",
    "-- Ground truth file is stored under /Data/Sports/Rank for sports category  as RankedDocuments.txt file extension. </br>\n",
    "\n",
    "-- For better visibility can open .cvs (extracted news file) file using excel. </br>\n",
    "\n",
    "-- For this assignment we have considered Sports and Science Categories. </br>\n",
    "\n",
    "-- For Sports category date filter **Fri, 01 Jan 2021** is applied to extract news providing corpus in /Data/Sports folder. Results are valid for this date only. </br> \n",
    "\n",
    "-- For Science category date filter **Mon, 04 Jan 2021** is applied to extract news providing corpus in /Data/Science folder. Results are valid for this date only. </br>\n",
    "\n",
    "-- As we have considered the Rss news feed from Google and Bing for the data extraction purpose, running the ExtractNews method again will override the Data folder and results may vary as feed varies from date to date. \n",
    "Accordingly RankedDocuments.txt should be constructed manually.\n"
   ]
  },
  {
   "cell_type": "markdown",
   "metadata": {},
   "source": [
    "*************************************************** End of File **************************************"
   ]
  },
  {
   "cell_type": "code",
   "execution_count": null,
   "metadata": {},
   "outputs": [],
   "source": []
  }
 ],
 "metadata": {
  "colab": {
   "collapsed_sections": [],
   "name": "NewsMetaSerchEngine.ipynb",
   "provenance": []
  },
  "kernelspec": {
   "display_name": "Python 3",
   "language": "python",
   "name": "python3"
  },
  "language_info": {
   "codemirror_mode": {
    "name": "ipython",
    "version": 3
   },
   "file_extension": ".py",
   "mimetype": "text/x-python",
   "name": "python",
   "nbconvert_exporter": "python",
   "pygments_lexer": "ipython3",
   "version": "3.7.4"
  }
 },
 "nbformat": 4,
 "nbformat_minor": 1
}
